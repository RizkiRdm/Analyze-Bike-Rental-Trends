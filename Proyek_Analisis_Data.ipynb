{
 "cells": [
  {
   "cell_type": "markdown",
   "metadata": {
    "id": "H9wADwK78DCz"
   },
   "source": [
    "# Proyek Analisis Data: bike-sharing-dataset\n",
    "\n",
    "- **Nama:** Rizki Romdhoni\n",
    "- **Email:** rizkimv27@gmail.com\n",
    "- **ID Dicoding:** rizki_romdhoni_rvM9\n"
   ]
  },
  {
   "cell_type": "markdown",
   "metadata": {
    "id": "eE0raob58DC0"
   },
   "source": [
    "## Menentukan Pertanyaan Bisnis\n"
   ]
  },
  {
   "cell_type": "markdown",
   "metadata": {
    "id": "GmQeQ5YF8DC0"
   },
   "source": [
    "- Bagaimana cuaca memengaruhi jumlah penyewaan sepeda ?\n",
    "\n",
    "- Berapa persen peningkatan penyewaan sepeda pada akhir pekan dibandingkan hari kerja ?\n",
    "- Bisakah kita mengidentifikasi jam-jam puncak penyewaan sepeda setiap hari ?\n",
    "- Bagaimana tren penyewaan sepeda berubah dari tahun 2011 ke 2012 ?\n"
   ]
  },
  {
   "cell_type": "markdown",
   "metadata": {
    "id": "H-z4QGlO8DC1"
   },
   "source": [
    "## Import Semua Packages/Library yang Digunakan\n"
   ]
  },
  {
   "cell_type": "code",
   "execution_count": 7,
   "metadata": {
    "id": "FVYwaObI8DC1"
   },
   "outputs": [],
   "source": [
    "import pandas as pd\n",
    "import numpy as np\n",
    "import matplotlib.pyplot as plt\n",
    "import seaborn as sns\n",
    "import datetime as dt\n",
    "\n",
    "sns.set_theme(style=\"whitegrid\")"
   ]
  },
  {
   "cell_type": "markdown",
   "metadata": {
    "id": "h_Sh51Xy8DC1"
   },
   "source": [
    "## Data Wrangling\n"
   ]
  },
  {
   "cell_type": "markdown",
   "metadata": {
    "id": "sXU2GBYu8DC1"
   },
   "source": [
    "### Gathering Data\n"
   ]
  },
  {
   "cell_type": "code",
   "execution_count": 8,
   "metadata": {
    "id": "zjCBk1BI8DC1"
   },
   "outputs": [],
   "source": [
    "# Muat data\n",
    "bike_data_day = pd.read_csv('data/day.csv')\n",
    "bike_data_hour = pd.read_csv('data/hour.csv')"
   ]
  },
  {
   "cell_type": "code",
   "execution_count": 9,
   "metadata": {
    "colab": {
     "base_uri": "https://localhost:8080/",
     "height": 206
    },
    "id": "bMJi9xsMB1nI",
    "outputId": "72bdd53c-3426-4764-f3a4-2b4ea0f700df"
   },
   "outputs": [
    {
     "data": {
      "text/html": [
       "<div>\n",
       "<style scoped>\n",
       "    .dataframe tbody tr th:only-of-type {\n",
       "        vertical-align: middle;\n",
       "    }\n",
       "\n",
       "    .dataframe tbody tr th {\n",
       "        vertical-align: top;\n",
       "    }\n",
       "\n",
       "    .dataframe thead th {\n",
       "        text-align: right;\n",
       "    }\n",
       "</style>\n",
       "<table border=\"1\" class=\"dataframe\">\n",
       "  <thead>\n",
       "    <tr style=\"text-align: right;\">\n",
       "      <th></th>\n",
       "      <th>instant</th>\n",
       "      <th>dteday</th>\n",
       "      <th>season</th>\n",
       "      <th>yr</th>\n",
       "      <th>mnth</th>\n",
       "      <th>holiday</th>\n",
       "      <th>weekday</th>\n",
       "      <th>workingday</th>\n",
       "      <th>weathersit</th>\n",
       "      <th>temp</th>\n",
       "      <th>atemp</th>\n",
       "      <th>hum</th>\n",
       "      <th>windspeed</th>\n",
       "      <th>casual</th>\n",
       "      <th>registered</th>\n",
       "      <th>cnt</th>\n",
       "    </tr>\n",
       "  </thead>\n",
       "  <tbody>\n",
       "    <tr>\n",
       "      <th>0</th>\n",
       "      <td>1</td>\n",
       "      <td>2011-01-01</td>\n",
       "      <td>1</td>\n",
       "      <td>0</td>\n",
       "      <td>1</td>\n",
       "      <td>0</td>\n",
       "      <td>6</td>\n",
       "      <td>0</td>\n",
       "      <td>2</td>\n",
       "      <td>0.344167</td>\n",
       "      <td>0.363625</td>\n",
       "      <td>0.805833</td>\n",
       "      <td>0.160446</td>\n",
       "      <td>331</td>\n",
       "      <td>654</td>\n",
       "      <td>985</td>\n",
       "    </tr>\n",
       "    <tr>\n",
       "      <th>1</th>\n",
       "      <td>2</td>\n",
       "      <td>2011-01-02</td>\n",
       "      <td>1</td>\n",
       "      <td>0</td>\n",
       "      <td>1</td>\n",
       "      <td>0</td>\n",
       "      <td>0</td>\n",
       "      <td>0</td>\n",
       "      <td>2</td>\n",
       "      <td>0.363478</td>\n",
       "      <td>0.353739</td>\n",
       "      <td>0.696087</td>\n",
       "      <td>0.248539</td>\n",
       "      <td>131</td>\n",
       "      <td>670</td>\n",
       "      <td>801</td>\n",
       "    </tr>\n",
       "    <tr>\n",
       "      <th>2</th>\n",
       "      <td>3</td>\n",
       "      <td>2011-01-03</td>\n",
       "      <td>1</td>\n",
       "      <td>0</td>\n",
       "      <td>1</td>\n",
       "      <td>0</td>\n",
       "      <td>1</td>\n",
       "      <td>1</td>\n",
       "      <td>1</td>\n",
       "      <td>0.196364</td>\n",
       "      <td>0.189405</td>\n",
       "      <td>0.437273</td>\n",
       "      <td>0.248309</td>\n",
       "      <td>120</td>\n",
       "      <td>1229</td>\n",
       "      <td>1349</td>\n",
       "    </tr>\n",
       "    <tr>\n",
       "      <th>3</th>\n",
       "      <td>4</td>\n",
       "      <td>2011-01-04</td>\n",
       "      <td>1</td>\n",
       "      <td>0</td>\n",
       "      <td>1</td>\n",
       "      <td>0</td>\n",
       "      <td>2</td>\n",
       "      <td>1</td>\n",
       "      <td>1</td>\n",
       "      <td>0.200000</td>\n",
       "      <td>0.212122</td>\n",
       "      <td>0.590435</td>\n",
       "      <td>0.160296</td>\n",
       "      <td>108</td>\n",
       "      <td>1454</td>\n",
       "      <td>1562</td>\n",
       "    </tr>\n",
       "    <tr>\n",
       "      <th>4</th>\n",
       "      <td>5</td>\n",
       "      <td>2011-01-05</td>\n",
       "      <td>1</td>\n",
       "      <td>0</td>\n",
       "      <td>1</td>\n",
       "      <td>0</td>\n",
       "      <td>3</td>\n",
       "      <td>1</td>\n",
       "      <td>1</td>\n",
       "      <td>0.226957</td>\n",
       "      <td>0.229270</td>\n",
       "      <td>0.436957</td>\n",
       "      <td>0.186900</td>\n",
       "      <td>82</td>\n",
       "      <td>1518</td>\n",
       "      <td>1600</td>\n",
       "    </tr>\n",
       "  </tbody>\n",
       "</table>\n",
       "</div>"
      ],
      "text/plain": [
       "   instant      dteday  season  yr  mnth  holiday  weekday  workingday  \\\n",
       "0        1  2011-01-01       1   0     1        0        6           0   \n",
       "1        2  2011-01-02       1   0     1        0        0           0   \n",
       "2        3  2011-01-03       1   0     1        0        1           1   \n",
       "3        4  2011-01-04       1   0     1        0        2           1   \n",
       "4        5  2011-01-05       1   0     1        0        3           1   \n",
       "\n",
       "   weathersit      temp     atemp       hum  windspeed  casual  registered  \\\n",
       "0           2  0.344167  0.363625  0.805833   0.160446     331         654   \n",
       "1           2  0.363478  0.353739  0.696087   0.248539     131         670   \n",
       "2           1  0.196364  0.189405  0.437273   0.248309     120        1229   \n",
       "3           1  0.200000  0.212122  0.590435   0.160296     108        1454   \n",
       "4           1  0.226957  0.229270  0.436957   0.186900      82        1518   \n",
       "\n",
       "    cnt  \n",
       "0   985  \n",
       "1   801  \n",
       "2  1349  \n",
       "3  1562  \n",
       "4  1600  "
      ]
     },
     "execution_count": 9,
     "metadata": {},
     "output_type": "execute_result"
    }
   ],
   "source": [
    "# load bike data day\n",
    "bike_data_day.head()"
   ]
  },
  {
   "cell_type": "code",
   "execution_count": 10,
   "metadata": {
    "colab": {
     "base_uri": "https://localhost:8080/",
     "height": 206
    },
    "id": "38ybZ8xWB_de",
    "outputId": "56156b7f-0ec2-4411-99d0-fa38358dac29"
   },
   "outputs": [
    {
     "data": {
      "text/html": [
       "<div>\n",
       "<style scoped>\n",
       "    .dataframe tbody tr th:only-of-type {\n",
       "        vertical-align: middle;\n",
       "    }\n",
       "\n",
       "    .dataframe tbody tr th {\n",
       "        vertical-align: top;\n",
       "    }\n",
       "\n",
       "    .dataframe thead th {\n",
       "        text-align: right;\n",
       "    }\n",
       "</style>\n",
       "<table border=\"1\" class=\"dataframe\">\n",
       "  <thead>\n",
       "    <tr style=\"text-align: right;\">\n",
       "      <th></th>\n",
       "      <th>instant</th>\n",
       "      <th>dteday</th>\n",
       "      <th>season</th>\n",
       "      <th>yr</th>\n",
       "      <th>mnth</th>\n",
       "      <th>holiday</th>\n",
       "      <th>weekday</th>\n",
       "      <th>workingday</th>\n",
       "      <th>weathersit</th>\n",
       "      <th>temp</th>\n",
       "      <th>atemp</th>\n",
       "      <th>hum</th>\n",
       "      <th>windspeed</th>\n",
       "      <th>casual</th>\n",
       "      <th>registered</th>\n",
       "      <th>cnt</th>\n",
       "    </tr>\n",
       "  </thead>\n",
       "  <tbody>\n",
       "    <tr>\n",
       "      <th>0</th>\n",
       "      <td>1</td>\n",
       "      <td>2011-01-01</td>\n",
       "      <td>1</td>\n",
       "      <td>0</td>\n",
       "      <td>1</td>\n",
       "      <td>0</td>\n",
       "      <td>6</td>\n",
       "      <td>0</td>\n",
       "      <td>2</td>\n",
       "      <td>0.344167</td>\n",
       "      <td>0.363625</td>\n",
       "      <td>0.805833</td>\n",
       "      <td>0.160446</td>\n",
       "      <td>331</td>\n",
       "      <td>654</td>\n",
       "      <td>985</td>\n",
       "    </tr>\n",
       "    <tr>\n",
       "      <th>1</th>\n",
       "      <td>2</td>\n",
       "      <td>2011-01-02</td>\n",
       "      <td>1</td>\n",
       "      <td>0</td>\n",
       "      <td>1</td>\n",
       "      <td>0</td>\n",
       "      <td>0</td>\n",
       "      <td>0</td>\n",
       "      <td>2</td>\n",
       "      <td>0.363478</td>\n",
       "      <td>0.353739</td>\n",
       "      <td>0.696087</td>\n",
       "      <td>0.248539</td>\n",
       "      <td>131</td>\n",
       "      <td>670</td>\n",
       "      <td>801</td>\n",
       "    </tr>\n",
       "    <tr>\n",
       "      <th>2</th>\n",
       "      <td>3</td>\n",
       "      <td>2011-01-03</td>\n",
       "      <td>1</td>\n",
       "      <td>0</td>\n",
       "      <td>1</td>\n",
       "      <td>0</td>\n",
       "      <td>1</td>\n",
       "      <td>1</td>\n",
       "      <td>1</td>\n",
       "      <td>0.196364</td>\n",
       "      <td>0.189405</td>\n",
       "      <td>0.437273</td>\n",
       "      <td>0.248309</td>\n",
       "      <td>120</td>\n",
       "      <td>1229</td>\n",
       "      <td>1349</td>\n",
       "    </tr>\n",
       "    <tr>\n",
       "      <th>3</th>\n",
       "      <td>4</td>\n",
       "      <td>2011-01-04</td>\n",
       "      <td>1</td>\n",
       "      <td>0</td>\n",
       "      <td>1</td>\n",
       "      <td>0</td>\n",
       "      <td>2</td>\n",
       "      <td>1</td>\n",
       "      <td>1</td>\n",
       "      <td>0.200000</td>\n",
       "      <td>0.212122</td>\n",
       "      <td>0.590435</td>\n",
       "      <td>0.160296</td>\n",
       "      <td>108</td>\n",
       "      <td>1454</td>\n",
       "      <td>1562</td>\n",
       "    </tr>\n",
       "    <tr>\n",
       "      <th>4</th>\n",
       "      <td>5</td>\n",
       "      <td>2011-01-05</td>\n",
       "      <td>1</td>\n",
       "      <td>0</td>\n",
       "      <td>1</td>\n",
       "      <td>0</td>\n",
       "      <td>3</td>\n",
       "      <td>1</td>\n",
       "      <td>1</td>\n",
       "      <td>0.226957</td>\n",
       "      <td>0.229270</td>\n",
       "      <td>0.436957</td>\n",
       "      <td>0.186900</td>\n",
       "      <td>82</td>\n",
       "      <td>1518</td>\n",
       "      <td>1600</td>\n",
       "    </tr>\n",
       "  </tbody>\n",
       "</table>\n",
       "</div>"
      ],
      "text/plain": [
       "   instant      dteday  season  yr  mnth  holiday  weekday  workingday  \\\n",
       "0        1  2011-01-01       1   0     1        0        6           0   \n",
       "1        2  2011-01-02       1   0     1        0        0           0   \n",
       "2        3  2011-01-03       1   0     1        0        1           1   \n",
       "3        4  2011-01-04       1   0     1        0        2           1   \n",
       "4        5  2011-01-05       1   0     1        0        3           1   \n",
       "\n",
       "   weathersit      temp     atemp       hum  windspeed  casual  registered  \\\n",
       "0           2  0.344167  0.363625  0.805833   0.160446     331         654   \n",
       "1           2  0.363478  0.353739  0.696087   0.248539     131         670   \n",
       "2           1  0.196364  0.189405  0.437273   0.248309     120        1229   \n",
       "3           1  0.200000  0.212122  0.590435   0.160296     108        1454   \n",
       "4           1  0.226957  0.229270  0.436957   0.186900      82        1518   \n",
       "\n",
       "    cnt  \n",
       "0   985  \n",
       "1   801  \n",
       "2  1349  \n",
       "3  1562  \n",
       "4  1600  "
      ]
     },
     "execution_count": 10,
     "metadata": {},
     "output_type": "execute_result"
    }
   ],
   "source": [
    "# load bike data hour\n",
    "bike_data_day.head()"
   ]
  },
  {
   "cell_type": "markdown",
   "metadata": {
    "id": "MMi6xGaDkbCi"
   },
   "source": [
    "**Insight:**\n",
    "\n",
    "> ada dua insight yang bisa diambil, diantaranya.\n",
    "\n",
    "- informasi di data_bike_day berisi data penyewaan sepeda harian, total penyewaan, kondisi cuaca, dan hari libur.\n",
    "- informasi di data_bike_hour berisi data penyewaan sepeda per jam.\n"
   ]
  },
  {
   "cell_type": "markdown",
   "metadata": {
    "id": "FHSiqaZp8DC1"
   },
   "source": [
    "### Assessing Data\n"
   ]
  },
  {
   "cell_type": "markdown",
   "metadata": {
    "id": "kKoReT90D1sX"
   },
   "source": [
    "### Menilai data bike_data_day\n"
   ]
  },
  {
   "cell_type": "code",
   "execution_count": 11,
   "metadata": {
    "colab": {
     "base_uri": "https://localhost:8080/"
    },
    "id": "ax-3tEjc9Cj1",
    "outputId": "d4d96b61-8adc-4a77-ab74-f2425b974fa3"
   },
   "outputs": [
    {
     "name": "stdout",
     "output_type": "stream",
     "text": [
      "<class 'pandas.core.frame.DataFrame'>\n",
      "RangeIndex: 731 entries, 0 to 730\n",
      "Data columns (total 16 columns):\n",
      " #   Column      Non-Null Count  Dtype  \n",
      "---  ------      --------------  -----  \n",
      " 0   instant     731 non-null    int64  \n",
      " 1   dteday      731 non-null    object \n",
      " 2   season      731 non-null    int64  \n",
      " 3   yr          731 non-null    int64  \n",
      " 4   mnth        731 non-null    int64  \n",
      " 5   holiday     731 non-null    int64  \n",
      " 6   weekday     731 non-null    int64  \n",
      " 7   workingday  731 non-null    int64  \n",
      " 8   weathersit  731 non-null    int64  \n",
      " 9   temp        731 non-null    float64\n",
      " 10  atemp       731 non-null    float64\n",
      " 11  hum         731 non-null    float64\n",
      " 12  windspeed   731 non-null    float64\n",
      " 13  casual      731 non-null    int64  \n",
      " 14  registered  731 non-null    int64  \n",
      " 15  cnt         731 non-null    int64  \n",
      "dtypes: float64(4), int64(11), object(1)\n",
      "memory usage: 91.5+ KB\n"
     ]
    }
   ],
   "source": [
    "bike_data_day.info()"
   ]
  },
  {
   "cell_type": "markdown",
   "metadata": {
    "id": "DslVfAewF-ZN"
   },
   "source": [
    "Cek missing value\n"
   ]
  },
  {
   "cell_type": "code",
   "execution_count": 12,
   "metadata": {
    "colab": {
     "base_uri": "https://localhost:8080/",
     "height": 586
    },
    "id": "dWj1KJ6fGNxY",
    "outputId": "d75a98e3-49b5-4fc0-b647-67c562101549"
   },
   "outputs": [
    {
     "data": {
      "text/plain": [
       "instant       0\n",
       "dteday        0\n",
       "season        0\n",
       "yr            0\n",
       "mnth          0\n",
       "holiday       0\n",
       "weekday       0\n",
       "workingday    0\n",
       "weathersit    0\n",
       "temp          0\n",
       "atemp         0\n",
       "hum           0\n",
       "windspeed     0\n",
       "casual        0\n",
       "registered    0\n",
       "cnt           0\n",
       "dtype: int64"
      ]
     },
     "execution_count": 12,
     "metadata": {},
     "output_type": "execute_result"
    }
   ],
   "source": [
    "bike_data_day.isna().sum()"
   ]
  },
  {
   "cell_type": "markdown",
   "metadata": {
    "id": "eskpPRoZGWEc"
   },
   "source": [
    "tidak ada missing value.\n"
   ]
  },
  {
   "cell_type": "markdown",
   "metadata": {
    "id": "4c9Y_Rr3Gbwd"
   },
   "source": [
    "cek duplikasi data\n"
   ]
  },
  {
   "cell_type": "code",
   "execution_count": 13,
   "metadata": {
    "colab": {
     "base_uri": "https://localhost:8080/"
    },
    "id": "3Q2qPE1NGeHW",
    "outputId": "0e4df1a3-25d1-45d1-a1ed-5b518a3c9ca7"
   },
   "outputs": [
    {
     "name": "stdout",
     "output_type": "stream",
     "text": [
      "Jumlah duplikasi data: 0\n"
     ]
    }
   ],
   "source": [
    "print(f'Jumlah duplikasi data: {bike_data_day.duplicated().sum()}')"
   ]
  },
  {
   "cell_type": "markdown",
   "metadata": {
    "id": "efPq0je2GtSp"
   },
   "source": [
    "Tidak ada duplikasi data\n"
   ]
  },
  {
   "cell_type": "markdown",
   "metadata": {
    "id": "LIkltsIXGy4E"
   },
   "source": [
    "Cek parameter statistik.\n"
   ]
  },
  {
   "cell_type": "code",
   "execution_count": 14,
   "metadata": {
    "colab": {
     "base_uri": "https://localhost:8080/",
     "height": 320
    },
    "id": "59EQq7TUG2sJ",
    "outputId": "5c6bcaf0-1df5-4af7-a0e6-3039736a1273"
   },
   "outputs": [
    {
     "data": {
      "text/html": [
       "<div>\n",
       "<style scoped>\n",
       "    .dataframe tbody tr th:only-of-type {\n",
       "        vertical-align: middle;\n",
       "    }\n",
       "\n",
       "    .dataframe tbody tr th {\n",
       "        vertical-align: top;\n",
       "    }\n",
       "\n",
       "    .dataframe thead th {\n",
       "        text-align: right;\n",
       "    }\n",
       "</style>\n",
       "<table border=\"1\" class=\"dataframe\">\n",
       "  <thead>\n",
       "    <tr style=\"text-align: right;\">\n",
       "      <th></th>\n",
       "      <th>instant</th>\n",
       "      <th>season</th>\n",
       "      <th>yr</th>\n",
       "      <th>mnth</th>\n",
       "      <th>holiday</th>\n",
       "      <th>weekday</th>\n",
       "      <th>workingday</th>\n",
       "      <th>weathersit</th>\n",
       "      <th>temp</th>\n",
       "      <th>atemp</th>\n",
       "      <th>hum</th>\n",
       "      <th>windspeed</th>\n",
       "      <th>casual</th>\n",
       "      <th>registered</th>\n",
       "      <th>cnt</th>\n",
       "    </tr>\n",
       "  </thead>\n",
       "  <tbody>\n",
       "    <tr>\n",
       "      <th>count</th>\n",
       "      <td>731.000000</td>\n",
       "      <td>731.000000</td>\n",
       "      <td>731.000000</td>\n",
       "      <td>731.000000</td>\n",
       "      <td>731.000000</td>\n",
       "      <td>731.000000</td>\n",
       "      <td>731.000000</td>\n",
       "      <td>731.000000</td>\n",
       "      <td>731.000000</td>\n",
       "      <td>731.000000</td>\n",
       "      <td>731.000000</td>\n",
       "      <td>731.000000</td>\n",
       "      <td>731.000000</td>\n",
       "      <td>731.000000</td>\n",
       "      <td>731.000000</td>\n",
       "    </tr>\n",
       "    <tr>\n",
       "      <th>mean</th>\n",
       "      <td>366.000000</td>\n",
       "      <td>2.496580</td>\n",
       "      <td>0.500684</td>\n",
       "      <td>6.519836</td>\n",
       "      <td>0.028728</td>\n",
       "      <td>2.997264</td>\n",
       "      <td>0.683995</td>\n",
       "      <td>1.395349</td>\n",
       "      <td>0.495385</td>\n",
       "      <td>0.474354</td>\n",
       "      <td>0.627894</td>\n",
       "      <td>0.190486</td>\n",
       "      <td>848.176471</td>\n",
       "      <td>3656.172367</td>\n",
       "      <td>4504.348837</td>\n",
       "    </tr>\n",
       "    <tr>\n",
       "      <th>std</th>\n",
       "      <td>211.165812</td>\n",
       "      <td>1.110807</td>\n",
       "      <td>0.500342</td>\n",
       "      <td>3.451913</td>\n",
       "      <td>0.167155</td>\n",
       "      <td>2.004787</td>\n",
       "      <td>0.465233</td>\n",
       "      <td>0.544894</td>\n",
       "      <td>0.183051</td>\n",
       "      <td>0.162961</td>\n",
       "      <td>0.142429</td>\n",
       "      <td>0.077498</td>\n",
       "      <td>686.622488</td>\n",
       "      <td>1560.256377</td>\n",
       "      <td>1937.211452</td>\n",
       "    </tr>\n",
       "    <tr>\n",
       "      <th>min</th>\n",
       "      <td>1.000000</td>\n",
       "      <td>1.000000</td>\n",
       "      <td>0.000000</td>\n",
       "      <td>1.000000</td>\n",
       "      <td>0.000000</td>\n",
       "      <td>0.000000</td>\n",
       "      <td>0.000000</td>\n",
       "      <td>1.000000</td>\n",
       "      <td>0.059130</td>\n",
       "      <td>0.079070</td>\n",
       "      <td>0.000000</td>\n",
       "      <td>0.022392</td>\n",
       "      <td>2.000000</td>\n",
       "      <td>20.000000</td>\n",
       "      <td>22.000000</td>\n",
       "    </tr>\n",
       "    <tr>\n",
       "      <th>25%</th>\n",
       "      <td>183.500000</td>\n",
       "      <td>2.000000</td>\n",
       "      <td>0.000000</td>\n",
       "      <td>4.000000</td>\n",
       "      <td>0.000000</td>\n",
       "      <td>1.000000</td>\n",
       "      <td>0.000000</td>\n",
       "      <td>1.000000</td>\n",
       "      <td>0.337083</td>\n",
       "      <td>0.337842</td>\n",
       "      <td>0.520000</td>\n",
       "      <td>0.134950</td>\n",
       "      <td>315.500000</td>\n",
       "      <td>2497.000000</td>\n",
       "      <td>3152.000000</td>\n",
       "    </tr>\n",
       "    <tr>\n",
       "      <th>50%</th>\n",
       "      <td>366.000000</td>\n",
       "      <td>3.000000</td>\n",
       "      <td>1.000000</td>\n",
       "      <td>7.000000</td>\n",
       "      <td>0.000000</td>\n",
       "      <td>3.000000</td>\n",
       "      <td>1.000000</td>\n",
       "      <td>1.000000</td>\n",
       "      <td>0.498333</td>\n",
       "      <td>0.486733</td>\n",
       "      <td>0.626667</td>\n",
       "      <td>0.180975</td>\n",
       "      <td>713.000000</td>\n",
       "      <td>3662.000000</td>\n",
       "      <td>4548.000000</td>\n",
       "    </tr>\n",
       "    <tr>\n",
       "      <th>75%</th>\n",
       "      <td>548.500000</td>\n",
       "      <td>3.000000</td>\n",
       "      <td>1.000000</td>\n",
       "      <td>10.000000</td>\n",
       "      <td>0.000000</td>\n",
       "      <td>5.000000</td>\n",
       "      <td>1.000000</td>\n",
       "      <td>2.000000</td>\n",
       "      <td>0.655417</td>\n",
       "      <td>0.608602</td>\n",
       "      <td>0.730209</td>\n",
       "      <td>0.233214</td>\n",
       "      <td>1096.000000</td>\n",
       "      <td>4776.500000</td>\n",
       "      <td>5956.000000</td>\n",
       "    </tr>\n",
       "    <tr>\n",
       "      <th>max</th>\n",
       "      <td>731.000000</td>\n",
       "      <td>4.000000</td>\n",
       "      <td>1.000000</td>\n",
       "      <td>12.000000</td>\n",
       "      <td>1.000000</td>\n",
       "      <td>6.000000</td>\n",
       "      <td>1.000000</td>\n",
       "      <td>3.000000</td>\n",
       "      <td>0.861667</td>\n",
       "      <td>0.840896</td>\n",
       "      <td>0.972500</td>\n",
       "      <td>0.507463</td>\n",
       "      <td>3410.000000</td>\n",
       "      <td>6946.000000</td>\n",
       "      <td>8714.000000</td>\n",
       "    </tr>\n",
       "  </tbody>\n",
       "</table>\n",
       "</div>"
      ],
      "text/plain": [
       "          instant      season          yr        mnth     holiday     weekday  \\\n",
       "count  731.000000  731.000000  731.000000  731.000000  731.000000  731.000000   \n",
       "mean   366.000000    2.496580    0.500684    6.519836    0.028728    2.997264   \n",
       "std    211.165812    1.110807    0.500342    3.451913    0.167155    2.004787   \n",
       "min      1.000000    1.000000    0.000000    1.000000    0.000000    0.000000   \n",
       "25%    183.500000    2.000000    0.000000    4.000000    0.000000    1.000000   \n",
       "50%    366.000000    3.000000    1.000000    7.000000    0.000000    3.000000   \n",
       "75%    548.500000    3.000000    1.000000   10.000000    0.000000    5.000000   \n",
       "max    731.000000    4.000000    1.000000   12.000000    1.000000    6.000000   \n",
       "\n",
       "       workingday  weathersit        temp       atemp         hum   windspeed  \\\n",
       "count  731.000000  731.000000  731.000000  731.000000  731.000000  731.000000   \n",
       "mean     0.683995    1.395349    0.495385    0.474354    0.627894    0.190486   \n",
       "std      0.465233    0.544894    0.183051    0.162961    0.142429    0.077498   \n",
       "min      0.000000    1.000000    0.059130    0.079070    0.000000    0.022392   \n",
       "25%      0.000000    1.000000    0.337083    0.337842    0.520000    0.134950   \n",
       "50%      1.000000    1.000000    0.498333    0.486733    0.626667    0.180975   \n",
       "75%      1.000000    2.000000    0.655417    0.608602    0.730209    0.233214   \n",
       "max      1.000000    3.000000    0.861667    0.840896    0.972500    0.507463   \n",
       "\n",
       "            casual   registered          cnt  \n",
       "count   731.000000   731.000000   731.000000  \n",
       "mean    848.176471  3656.172367  4504.348837  \n",
       "std     686.622488  1560.256377  1937.211452  \n",
       "min       2.000000    20.000000    22.000000  \n",
       "25%     315.500000  2497.000000  3152.000000  \n",
       "50%     713.000000  3662.000000  4548.000000  \n",
       "75%    1096.000000  4776.500000  5956.000000  \n",
       "max    3410.000000  6946.000000  8714.000000  "
      ]
     },
     "execution_count": 14,
     "metadata": {},
     "output_type": "execute_result"
    }
   ],
   "source": [
    "bike_data_day.describe()"
   ]
  },
  {
   "cell_type": "code",
   "execution_count": 15,
   "metadata": {
    "colab": {
     "base_uri": "https://localhost:8080/"
    },
    "id": "lewq4RuNlrOU",
    "outputId": "a534100a-580f-4149-b2fc-c1e20cda23de"
   },
   "outputs": [
    {
     "name": "stdout",
     "output_type": "stream",
     "text": [
      "<class 'pandas.core.frame.DataFrame'>\n",
      "RangeIndex: 731 entries, 0 to 730\n",
      "Data columns (total 16 columns):\n",
      " #   Column      Non-Null Count  Dtype  \n",
      "---  ------      --------------  -----  \n",
      " 0   instant     731 non-null    int64  \n",
      " 1   dteday      731 non-null    object \n",
      " 2   season      731 non-null    int64  \n",
      " 3   yr          731 non-null    int64  \n",
      " 4   mnth        731 non-null    int64  \n",
      " 5   holiday     731 non-null    int64  \n",
      " 6   weekday     731 non-null    int64  \n",
      " 7   workingday  731 non-null    int64  \n",
      " 8   weathersit  731 non-null    int64  \n",
      " 9   temp        731 non-null    float64\n",
      " 10  atemp       731 non-null    float64\n",
      " 11  hum         731 non-null    float64\n",
      " 12  windspeed   731 non-null    float64\n",
      " 13  casual      731 non-null    int64  \n",
      " 14  registered  731 non-null    int64  \n",
      " 15  cnt         731 non-null    int64  \n",
      "dtypes: float64(4), int64(11), object(1)\n",
      "memory usage: 91.5+ KB\n"
     ]
    }
   ],
   "source": [
    "bike_data_day.info()"
   ]
  },
  {
   "cell_type": "markdown",
   "metadata": {
    "id": "9DCdxS3LmpPW"
   },
   "source": [
    "### Menilai data bike_data_hour\n"
   ]
  },
  {
   "cell_type": "code",
   "execution_count": 16,
   "metadata": {
    "colab": {
     "base_uri": "https://localhost:8080/"
    },
    "id": "Ofq83el8mpPY",
    "outputId": "975a541b-4b79-4c5f-a86f-0bc0603e4db7"
   },
   "outputs": [
    {
     "name": "stdout",
     "output_type": "stream",
     "text": [
      "<class 'pandas.core.frame.DataFrame'>\n",
      "RangeIndex: 17379 entries, 0 to 17378\n",
      "Data columns (total 17 columns):\n",
      " #   Column      Non-Null Count  Dtype  \n",
      "---  ------      --------------  -----  \n",
      " 0   instant     17379 non-null  int64  \n",
      " 1   dteday      17379 non-null  object \n",
      " 2   season      17379 non-null  int64  \n",
      " 3   yr          17379 non-null  int64  \n",
      " 4   mnth        17379 non-null  int64  \n",
      " 5   hr          17379 non-null  int64  \n",
      " 6   holiday     17379 non-null  int64  \n",
      " 7   weekday     17379 non-null  int64  \n",
      " 8   workingday  17379 non-null  int64  \n",
      " 9   weathersit  17379 non-null  int64  \n",
      " 10  temp        17379 non-null  float64\n",
      " 11  atemp       17379 non-null  float64\n",
      " 12  hum         17379 non-null  float64\n",
      " 13  windspeed   17379 non-null  float64\n",
      " 14  casual      17379 non-null  int64  \n",
      " 15  registered  17379 non-null  int64  \n",
      " 16  cnt         17379 non-null  int64  \n",
      "dtypes: float64(4), int64(12), object(1)\n",
      "memory usage: 2.3+ MB\n"
     ]
    }
   ],
   "source": [
    "bike_data_hour.info()"
   ]
  },
  {
   "cell_type": "markdown",
   "metadata": {
    "id": "YEmXW59-mpPZ"
   },
   "source": [
    "Cek missing value\n"
   ]
  },
  {
   "cell_type": "code",
   "execution_count": 17,
   "metadata": {
    "colab": {
     "base_uri": "https://localhost:8080/",
     "height": 617
    },
    "id": "nlh_uimgmpPa",
    "outputId": "10dc73a3-b8f5-4590-f9ba-8f43923dd020"
   },
   "outputs": [
    {
     "data": {
      "text/plain": [
       "instant       0\n",
       "dteday        0\n",
       "season        0\n",
       "yr            0\n",
       "mnth          0\n",
       "hr            0\n",
       "holiday       0\n",
       "weekday       0\n",
       "workingday    0\n",
       "weathersit    0\n",
       "temp          0\n",
       "atemp         0\n",
       "hum           0\n",
       "windspeed     0\n",
       "casual        0\n",
       "registered    0\n",
       "cnt           0\n",
       "dtype: int64"
      ]
     },
     "execution_count": 17,
     "metadata": {},
     "output_type": "execute_result"
    }
   ],
   "source": [
    "bike_data_hour.isna().sum()"
   ]
  },
  {
   "cell_type": "markdown",
   "metadata": {
    "id": "IbuiqPRRmpPb"
   },
   "source": [
    "tidak ada missing value.\n"
   ]
  },
  {
   "cell_type": "markdown",
   "metadata": {
    "id": "eQQ3T3jGmpPb"
   },
   "source": [
    "cek duplikasi data\n"
   ]
  },
  {
   "cell_type": "code",
   "execution_count": 18,
   "metadata": {
    "colab": {
     "base_uri": "https://localhost:8080/"
    },
    "id": "E0ddWt4xmpPc",
    "outputId": "8f9ff033-bfc0-486e-bdcb-c2031da59f3a"
   },
   "outputs": [
    {
     "name": "stdout",
     "output_type": "stream",
     "text": [
      "Jumlah duplikasi data: 0\n"
     ]
    }
   ],
   "source": [
    "print(f'Jumlah duplikasi data: {bike_data_hour.duplicated().sum()}')"
   ]
  },
  {
   "cell_type": "markdown",
   "metadata": {
    "id": "t8uqgdH7mpPd"
   },
   "source": [
    "Tidak ada duplikasi data\n"
   ]
  },
  {
   "cell_type": "markdown",
   "metadata": {
    "id": "TljiywtmmpPd"
   },
   "source": [
    "Cek parameter statistik.\n"
   ]
  },
  {
   "cell_type": "code",
   "execution_count": 19,
   "metadata": {
    "colab": {
     "base_uri": "https://localhost:8080/",
     "height": 320
    },
    "id": "kAF3p-tHmpPe",
    "outputId": "64ccfbdf-f5ef-4556-92cc-a9eb97a71baf"
   },
   "outputs": [
    {
     "data": {
      "text/html": [
       "<div>\n",
       "<style scoped>\n",
       "    .dataframe tbody tr th:only-of-type {\n",
       "        vertical-align: middle;\n",
       "    }\n",
       "\n",
       "    .dataframe tbody tr th {\n",
       "        vertical-align: top;\n",
       "    }\n",
       "\n",
       "    .dataframe thead th {\n",
       "        text-align: right;\n",
       "    }\n",
       "</style>\n",
       "<table border=\"1\" class=\"dataframe\">\n",
       "  <thead>\n",
       "    <tr style=\"text-align: right;\">\n",
       "      <th></th>\n",
       "      <th>instant</th>\n",
       "      <th>season</th>\n",
       "      <th>yr</th>\n",
       "      <th>mnth</th>\n",
       "      <th>hr</th>\n",
       "      <th>holiday</th>\n",
       "      <th>weekday</th>\n",
       "      <th>workingday</th>\n",
       "      <th>weathersit</th>\n",
       "      <th>temp</th>\n",
       "      <th>atemp</th>\n",
       "      <th>hum</th>\n",
       "      <th>windspeed</th>\n",
       "      <th>casual</th>\n",
       "      <th>registered</th>\n",
       "      <th>cnt</th>\n",
       "    </tr>\n",
       "  </thead>\n",
       "  <tbody>\n",
       "    <tr>\n",
       "      <th>count</th>\n",
       "      <td>17379.0000</td>\n",
       "      <td>17379.000000</td>\n",
       "      <td>17379.000000</td>\n",
       "      <td>17379.000000</td>\n",
       "      <td>17379.000000</td>\n",
       "      <td>17379.000000</td>\n",
       "      <td>17379.000000</td>\n",
       "      <td>17379.000000</td>\n",
       "      <td>17379.000000</td>\n",
       "      <td>17379.000000</td>\n",
       "      <td>17379.000000</td>\n",
       "      <td>17379.000000</td>\n",
       "      <td>17379.000000</td>\n",
       "      <td>17379.000000</td>\n",
       "      <td>17379.000000</td>\n",
       "      <td>17379.000000</td>\n",
       "    </tr>\n",
       "    <tr>\n",
       "      <th>mean</th>\n",
       "      <td>8690.0000</td>\n",
       "      <td>2.501640</td>\n",
       "      <td>0.502561</td>\n",
       "      <td>6.537775</td>\n",
       "      <td>11.546752</td>\n",
       "      <td>0.028770</td>\n",
       "      <td>3.003683</td>\n",
       "      <td>0.682721</td>\n",
       "      <td>1.425283</td>\n",
       "      <td>0.496987</td>\n",
       "      <td>0.475775</td>\n",
       "      <td>0.627229</td>\n",
       "      <td>0.190098</td>\n",
       "      <td>35.676218</td>\n",
       "      <td>153.786869</td>\n",
       "      <td>189.463088</td>\n",
       "    </tr>\n",
       "    <tr>\n",
       "      <th>std</th>\n",
       "      <td>5017.0295</td>\n",
       "      <td>1.106918</td>\n",
       "      <td>0.500008</td>\n",
       "      <td>3.438776</td>\n",
       "      <td>6.914405</td>\n",
       "      <td>0.167165</td>\n",
       "      <td>2.005771</td>\n",
       "      <td>0.465431</td>\n",
       "      <td>0.639357</td>\n",
       "      <td>0.192556</td>\n",
       "      <td>0.171850</td>\n",
       "      <td>0.192930</td>\n",
       "      <td>0.122340</td>\n",
       "      <td>49.305030</td>\n",
       "      <td>151.357286</td>\n",
       "      <td>181.387599</td>\n",
       "    </tr>\n",
       "    <tr>\n",
       "      <th>min</th>\n",
       "      <td>1.0000</td>\n",
       "      <td>1.000000</td>\n",
       "      <td>0.000000</td>\n",
       "      <td>1.000000</td>\n",
       "      <td>0.000000</td>\n",
       "      <td>0.000000</td>\n",
       "      <td>0.000000</td>\n",
       "      <td>0.000000</td>\n",
       "      <td>1.000000</td>\n",
       "      <td>0.020000</td>\n",
       "      <td>0.000000</td>\n",
       "      <td>0.000000</td>\n",
       "      <td>0.000000</td>\n",
       "      <td>0.000000</td>\n",
       "      <td>0.000000</td>\n",
       "      <td>1.000000</td>\n",
       "    </tr>\n",
       "    <tr>\n",
       "      <th>25%</th>\n",
       "      <td>4345.5000</td>\n",
       "      <td>2.000000</td>\n",
       "      <td>0.000000</td>\n",
       "      <td>4.000000</td>\n",
       "      <td>6.000000</td>\n",
       "      <td>0.000000</td>\n",
       "      <td>1.000000</td>\n",
       "      <td>0.000000</td>\n",
       "      <td>1.000000</td>\n",
       "      <td>0.340000</td>\n",
       "      <td>0.333300</td>\n",
       "      <td>0.480000</td>\n",
       "      <td>0.104500</td>\n",
       "      <td>4.000000</td>\n",
       "      <td>34.000000</td>\n",
       "      <td>40.000000</td>\n",
       "    </tr>\n",
       "    <tr>\n",
       "      <th>50%</th>\n",
       "      <td>8690.0000</td>\n",
       "      <td>3.000000</td>\n",
       "      <td>1.000000</td>\n",
       "      <td>7.000000</td>\n",
       "      <td>12.000000</td>\n",
       "      <td>0.000000</td>\n",
       "      <td>3.000000</td>\n",
       "      <td>1.000000</td>\n",
       "      <td>1.000000</td>\n",
       "      <td>0.500000</td>\n",
       "      <td>0.484800</td>\n",
       "      <td>0.630000</td>\n",
       "      <td>0.194000</td>\n",
       "      <td>17.000000</td>\n",
       "      <td>115.000000</td>\n",
       "      <td>142.000000</td>\n",
       "    </tr>\n",
       "    <tr>\n",
       "      <th>75%</th>\n",
       "      <td>13034.5000</td>\n",
       "      <td>3.000000</td>\n",
       "      <td>1.000000</td>\n",
       "      <td>10.000000</td>\n",
       "      <td>18.000000</td>\n",
       "      <td>0.000000</td>\n",
       "      <td>5.000000</td>\n",
       "      <td>1.000000</td>\n",
       "      <td>2.000000</td>\n",
       "      <td>0.660000</td>\n",
       "      <td>0.621200</td>\n",
       "      <td>0.780000</td>\n",
       "      <td>0.253700</td>\n",
       "      <td>48.000000</td>\n",
       "      <td>220.000000</td>\n",
       "      <td>281.000000</td>\n",
       "    </tr>\n",
       "    <tr>\n",
       "      <th>max</th>\n",
       "      <td>17379.0000</td>\n",
       "      <td>4.000000</td>\n",
       "      <td>1.000000</td>\n",
       "      <td>12.000000</td>\n",
       "      <td>23.000000</td>\n",
       "      <td>1.000000</td>\n",
       "      <td>6.000000</td>\n",
       "      <td>1.000000</td>\n",
       "      <td>4.000000</td>\n",
       "      <td>1.000000</td>\n",
       "      <td>1.000000</td>\n",
       "      <td>1.000000</td>\n",
       "      <td>0.850700</td>\n",
       "      <td>367.000000</td>\n",
       "      <td>886.000000</td>\n",
       "      <td>977.000000</td>\n",
       "    </tr>\n",
       "  </tbody>\n",
       "</table>\n",
       "</div>"
      ],
      "text/plain": [
       "          instant        season            yr          mnth            hr  \\\n",
       "count  17379.0000  17379.000000  17379.000000  17379.000000  17379.000000   \n",
       "mean    8690.0000      2.501640      0.502561      6.537775     11.546752   \n",
       "std     5017.0295      1.106918      0.500008      3.438776      6.914405   \n",
       "min        1.0000      1.000000      0.000000      1.000000      0.000000   \n",
       "25%     4345.5000      2.000000      0.000000      4.000000      6.000000   \n",
       "50%     8690.0000      3.000000      1.000000      7.000000     12.000000   \n",
       "75%    13034.5000      3.000000      1.000000     10.000000     18.000000   \n",
       "max    17379.0000      4.000000      1.000000     12.000000     23.000000   \n",
       "\n",
       "            holiday       weekday    workingday    weathersit          temp  \\\n",
       "count  17379.000000  17379.000000  17379.000000  17379.000000  17379.000000   \n",
       "mean       0.028770      3.003683      0.682721      1.425283      0.496987   \n",
       "std        0.167165      2.005771      0.465431      0.639357      0.192556   \n",
       "min        0.000000      0.000000      0.000000      1.000000      0.020000   \n",
       "25%        0.000000      1.000000      0.000000      1.000000      0.340000   \n",
       "50%        0.000000      3.000000      1.000000      1.000000      0.500000   \n",
       "75%        0.000000      5.000000      1.000000      2.000000      0.660000   \n",
       "max        1.000000      6.000000      1.000000      4.000000      1.000000   \n",
       "\n",
       "              atemp           hum     windspeed        casual    registered  \\\n",
       "count  17379.000000  17379.000000  17379.000000  17379.000000  17379.000000   \n",
       "mean       0.475775      0.627229      0.190098     35.676218    153.786869   \n",
       "std        0.171850      0.192930      0.122340     49.305030    151.357286   \n",
       "min        0.000000      0.000000      0.000000      0.000000      0.000000   \n",
       "25%        0.333300      0.480000      0.104500      4.000000     34.000000   \n",
       "50%        0.484800      0.630000      0.194000     17.000000    115.000000   \n",
       "75%        0.621200      0.780000      0.253700     48.000000    220.000000   \n",
       "max        1.000000      1.000000      0.850700    367.000000    886.000000   \n",
       "\n",
       "                cnt  \n",
       "count  17379.000000  \n",
       "mean     189.463088  \n",
       "std      181.387599  \n",
       "min        1.000000  \n",
       "25%       40.000000  \n",
       "50%      142.000000  \n",
       "75%      281.000000  \n",
       "max      977.000000  "
      ]
     },
     "execution_count": 19,
     "metadata": {},
     "output_type": "execute_result"
    }
   ],
   "source": [
    "bike_data_hour.describe()"
   ]
  },
  {
   "cell_type": "code",
   "execution_count": 20,
   "metadata": {
    "colab": {
     "base_uri": "https://localhost:8080/"
    },
    "id": "BJrG70G5mpPf",
    "outputId": "4796b4af-43e7-42e8-c289-db3381bba9b4"
   },
   "outputs": [
    {
     "name": "stdout",
     "output_type": "stream",
     "text": [
      "<class 'pandas.core.frame.DataFrame'>\n",
      "RangeIndex: 17379 entries, 0 to 17378\n",
      "Data columns (total 17 columns):\n",
      " #   Column      Non-Null Count  Dtype  \n",
      "---  ------      --------------  -----  \n",
      " 0   instant     17379 non-null  int64  \n",
      " 1   dteday      17379 non-null  object \n",
      " 2   season      17379 non-null  int64  \n",
      " 3   yr          17379 non-null  int64  \n",
      " 4   mnth        17379 non-null  int64  \n",
      " 5   hr          17379 non-null  int64  \n",
      " 6   holiday     17379 non-null  int64  \n",
      " 7   weekday     17379 non-null  int64  \n",
      " 8   workingday  17379 non-null  int64  \n",
      " 9   weathersit  17379 non-null  int64  \n",
      " 10  temp        17379 non-null  float64\n",
      " 11  atemp       17379 non-null  float64\n",
      " 12  hum         17379 non-null  float64\n",
      " 13  windspeed   17379 non-null  float64\n",
      " 14  casual      17379 non-null  int64  \n",
      " 15  registered  17379 non-null  int64  \n",
      " 16  cnt         17379 non-null  int64  \n",
      "dtypes: float64(4), int64(12), object(1)\n",
      "memory usage: 2.3+ MB\n"
     ]
    }
   ],
   "source": [
    "bike_data_hour.info()"
   ]
  },
  {
   "cell_type": "markdown",
   "metadata": {
    "id": "7dtxhAPrkhPL"
   },
   "source": [
    "**Insight:**\n",
    "\n",
    "- Data harus diubah ke dalam tipe data datetime\n"
   ]
  },
  {
   "cell_type": "markdown",
   "metadata": {
    "id": "EhN5R4hr8DC1"
   },
   "source": [
    "### Cleaning Data\n"
   ]
  },
  {
   "cell_type": "markdown",
   "metadata": {
    "id": "aM3seOU6shF5"
   },
   "source": [
    "Mengubah format tipe data dari bike_data_day & bike_data_hour\n"
   ]
  },
  {
   "cell_type": "code",
   "execution_count": 21,
   "metadata": {
    "id": "jVnYpprE9Evz"
   },
   "outputs": [],
   "source": [
    "datetime_columns = [\"dteday\"]\n",
    "\n",
    "for col in datetime_columns:\n",
    "    bike_data_day[col] = pd.to_datetime(bike_data_day[col])\n",
    "    bike_data_hour[col] = pd.to_datetime(bike_data_hour[col])\n"
   ]
  },
  {
   "cell_type": "code",
   "execution_count": 22,
   "metadata": {
    "colab": {
     "base_uri": "https://localhost:8080/"
    },
    "collapsed": true,
    "id": "4HA9Lef5tiye",
    "outputId": "ea030101-5de6-4eb0-d51f-0e7eb2c599c8"
   },
   "outputs": [
    {
     "name": "stdout",
     "output_type": "stream",
     "text": [
      "<class 'pandas.core.frame.DataFrame'>\n",
      "RangeIndex: 731 entries, 0 to 730\n",
      "Data columns (total 16 columns):\n",
      " #   Column      Non-Null Count  Dtype         \n",
      "---  ------      --------------  -----         \n",
      " 0   instant     731 non-null    int64         \n",
      " 1   dteday      731 non-null    datetime64[ns]\n",
      " 2   season      731 non-null    int64         \n",
      " 3   yr          731 non-null    int64         \n",
      " 4   mnth        731 non-null    int64         \n",
      " 5   holiday     731 non-null    int64         \n",
      " 6   weekday     731 non-null    int64         \n",
      " 7   workingday  731 non-null    int64         \n",
      " 8   weathersit  731 non-null    int64         \n",
      " 9   temp        731 non-null    float64       \n",
      " 10  atemp       731 non-null    float64       \n",
      " 11  hum         731 non-null    float64       \n",
      " 12  windspeed   731 non-null    float64       \n",
      " 13  casual      731 non-null    int64         \n",
      " 14  registered  731 non-null    int64         \n",
      " 15  cnt         731 non-null    int64         \n",
      "dtypes: datetime64[ns](1), float64(4), int64(11)\n",
      "memory usage: 91.5 KB\n"
     ]
    }
   ],
   "source": [
    "bike_data_day.info()"
   ]
  },
  {
   "cell_type": "markdown",
   "metadata": {},
   "source": [
    "kolom dtday sekarang sudah diganti dengan tipe data datetime\n"
   ]
  },
  {
   "cell_type": "code",
   "execution_count": 23,
   "metadata": {
    "colab": {
     "base_uri": "https://localhost:8080/"
    },
    "collapsed": true,
    "id": "rkENQXHLtlA1",
    "outputId": "709f77a3-24d0-4c3f-b4df-637010654908"
   },
   "outputs": [
    {
     "name": "stdout",
     "output_type": "stream",
     "text": [
      "<class 'pandas.core.frame.DataFrame'>\n",
      "RangeIndex: 17379 entries, 0 to 17378\n",
      "Data columns (total 17 columns):\n",
      " #   Column      Non-Null Count  Dtype         \n",
      "---  ------      --------------  -----         \n",
      " 0   instant     17379 non-null  int64         \n",
      " 1   dteday      17379 non-null  datetime64[ns]\n",
      " 2   season      17379 non-null  int64         \n",
      " 3   yr          17379 non-null  int64         \n",
      " 4   mnth        17379 non-null  int64         \n",
      " 5   hr          17379 non-null  int64         \n",
      " 6   holiday     17379 non-null  int64         \n",
      " 7   weekday     17379 non-null  int64         \n",
      " 8   workingday  17379 non-null  int64         \n",
      " 9   weathersit  17379 non-null  int64         \n",
      " 10  temp        17379 non-null  float64       \n",
      " 11  atemp       17379 non-null  float64       \n",
      " 12  hum         17379 non-null  float64       \n",
      " 13  windspeed   17379 non-null  float64       \n",
      " 14  casual      17379 non-null  int64         \n",
      " 15  registered  17379 non-null  int64         \n",
      " 16  cnt         17379 non-null  int64         \n",
      "dtypes: datetime64[ns](1), float64(4), int64(12)\n",
      "memory usage: 2.3 MB\n"
     ]
    }
   ],
   "source": [
    "bike_data_hour.info()"
   ]
  },
  {
   "cell_type": "markdown",
   "metadata": {
    "id": "Q_5ejIqckiSP"
   },
   "source": [
    "**Insight:**\n",
    "\n",
    "- tipe data sudah diubah ke tipe data datetime\n"
   ]
  },
  {
   "cell_type": "markdown",
   "metadata": {
    "id": "gp-Y6wU38DC1"
   },
   "source": [
    "## Exploratory Data Analysis (EDA)\n"
   ]
  },
  {
   "cell_type": "markdown",
   "metadata": {
    "id": "MW7WF2kr8DC1"
   },
   "source": [
    "### Explore data pengaruh cuaca dalam penyewaan sepeda\n"
   ]
  },
  {
   "cell_type": "markdown",
   "metadata": {
    "id": "_mDnZbBw80cj"
   },
   "source": [
    "Melakukan eksplorasi cuaca dalam penyewaan cuaca.\n"
   ]
  },
  {
   "cell_type": "code",
   "execution_count": 24,
   "metadata": {
    "colab": {
     "base_uri": "https://localhost:8080/",
     "height": 363
    },
    "id": "e9CQCZjk8DC2",
    "outputId": "ab17c19e-7c54-4b6e-896c-a56f27b1042c"
   },
   "outputs": [
    {
     "data": {
      "text/html": [
       "<div>\n",
       "<style scoped>\n",
       "    .dataframe tbody tr th:only-of-type {\n",
       "        vertical-align: middle;\n",
       "    }\n",
       "\n",
       "    .dataframe tbody tr th {\n",
       "        vertical-align: top;\n",
       "    }\n",
       "\n",
       "    .dataframe thead th {\n",
       "        text-align: right;\n",
       "    }\n",
       "</style>\n",
       "<table border=\"1\" class=\"dataframe\">\n",
       "  <thead>\n",
       "    <tr style=\"text-align: right;\">\n",
       "      <th></th>\n",
       "      <th>season</th>\n",
       "      <th>cnt</th>\n",
       "      <th>temp</th>\n",
       "    </tr>\n",
       "  </thead>\n",
       "  <tbody>\n",
       "    <tr>\n",
       "      <th>697</th>\n",
       "      <td>4</td>\n",
       "      <td>5260</td>\n",
       "      <td>0.296667</td>\n",
       "    </tr>\n",
       "  </tbody>\n",
       "</table>\n",
       "</div>"
      ],
      "text/plain": [
       "     season   cnt      temp\n",
       "697       4  5260  0.296667"
      ]
     },
     "execution_count": 24,
     "metadata": {},
     "output_type": "execute_result"
    }
   ],
   "source": [
    "bike_data_day[[\"season\", \"cnt\", \"temp\"]].sample()"
   ]
  },
  {
   "cell_type": "code",
   "execution_count": 25,
   "metadata": {
    "colab": {
     "base_uri": "https://localhost:8080/",
     "height": 300
    },
    "id": "PjEzD0fB9rrg",
    "outputId": "97bff93a-9895-4510-a3f7-3f94ed885ef9"
   },
   "outputs": [
    {
     "data": {
      "text/html": [
       "<div>\n",
       "<style scoped>\n",
       "    .dataframe tbody tr th:only-of-type {\n",
       "        vertical-align: middle;\n",
       "    }\n",
       "\n",
       "    .dataframe tbody tr th {\n",
       "        vertical-align: top;\n",
       "    }\n",
       "\n",
       "    .dataframe thead th {\n",
       "        text-align: right;\n",
       "    }\n",
       "</style>\n",
       "<table border=\"1\" class=\"dataframe\">\n",
       "  <thead>\n",
       "    <tr style=\"text-align: right;\">\n",
       "      <th></th>\n",
       "      <th>season</th>\n",
       "      <th>temp</th>\n",
       "    </tr>\n",
       "  </thead>\n",
       "  <tbody>\n",
       "    <tr>\n",
       "      <th>count</th>\n",
       "      <td>731.000000</td>\n",
       "      <td>731.000000</td>\n",
       "    </tr>\n",
       "    <tr>\n",
       "      <th>mean</th>\n",
       "      <td>2.496580</td>\n",
       "      <td>0.495385</td>\n",
       "    </tr>\n",
       "    <tr>\n",
       "      <th>std</th>\n",
       "      <td>1.110807</td>\n",
       "      <td>0.183051</td>\n",
       "    </tr>\n",
       "    <tr>\n",
       "      <th>min</th>\n",
       "      <td>1.000000</td>\n",
       "      <td>0.059130</td>\n",
       "    </tr>\n",
       "    <tr>\n",
       "      <th>25%</th>\n",
       "      <td>2.000000</td>\n",
       "      <td>0.337083</td>\n",
       "    </tr>\n",
       "    <tr>\n",
       "      <th>50%</th>\n",
       "      <td>3.000000</td>\n",
       "      <td>0.498333</td>\n",
       "    </tr>\n",
       "    <tr>\n",
       "      <th>75%</th>\n",
       "      <td>3.000000</td>\n",
       "      <td>0.655417</td>\n",
       "    </tr>\n",
       "    <tr>\n",
       "      <th>max</th>\n",
       "      <td>4.000000</td>\n",
       "      <td>0.861667</td>\n",
       "    </tr>\n",
       "  </tbody>\n",
       "</table>\n",
       "</div>"
      ],
      "text/plain": [
       "           season        temp\n",
       "count  731.000000  731.000000\n",
       "mean     2.496580    0.495385\n",
       "std      1.110807    0.183051\n",
       "min      1.000000    0.059130\n",
       "25%      2.000000    0.337083\n",
       "50%      3.000000    0.498333\n",
       "75%      3.000000    0.655417\n",
       "max      4.000000    0.861667"
      ]
     },
     "execution_count": 25,
     "metadata": {},
     "output_type": "execute_result"
    }
   ],
   "source": [
    "bike_data_day[['season', 'temp']].describe()"
   ]
  },
  {
   "cell_type": "markdown",
   "metadata": {},
   "source": [
    "mengubah data dari kolom season menjadi cuaca supaya lebih mudah dibaca.\n"
   ]
  },
  {
   "cell_type": "code",
   "execution_count": 87,
   "metadata": {},
   "outputs": [
    {
     "data": {
      "text/html": [
       "<div>\n",
       "<style scoped>\n",
       "    .dataframe tbody tr th:only-of-type {\n",
       "        vertical-align: middle;\n",
       "    }\n",
       "\n",
       "    .dataframe tbody tr th {\n",
       "        vertical-align: top;\n",
       "    }\n",
       "\n",
       "    .dataframe thead th {\n",
       "        text-align: right;\n",
       "    }\n",
       "</style>\n",
       "<table border=\"1\" class=\"dataframe\">\n",
       "  <thead>\n",
       "    <tr style=\"text-align: right;\">\n",
       "      <th></th>\n",
       "      <th>weathersit</th>\n",
       "      <th>cuaca</th>\n",
       "    </tr>\n",
       "  </thead>\n",
       "  <tbody>\n",
       "    <tr>\n",
       "      <th>36</th>\n",
       "      <td>1</td>\n",
       "      <td>cerah</td>\n",
       "    </tr>\n",
       "    <tr>\n",
       "      <th>627</th>\n",
       "      <td>1</td>\n",
       "      <td>cerah</td>\n",
       "    </tr>\n",
       "    <tr>\n",
       "      <th>360</th>\n",
       "      <td>2</td>\n",
       "      <td>berawan</td>\n",
       "    </tr>\n",
       "    <tr>\n",
       "      <th>465</th>\n",
       "      <td>1</td>\n",
       "      <td>cerah</td>\n",
       "    </tr>\n",
       "    <tr>\n",
       "      <th>161</th>\n",
       "      <td>1</td>\n",
       "      <td>cerah</td>\n",
       "    </tr>\n",
       "    <tr>\n",
       "      <th>110</th>\n",
       "      <td>1</td>\n",
       "      <td>cerah</td>\n",
       "    </tr>\n",
       "    <tr>\n",
       "      <th>248</th>\n",
       "      <td>3</td>\n",
       "      <td>hujan</td>\n",
       "    </tr>\n",
       "    <tr>\n",
       "      <th>420</th>\n",
       "      <td>1</td>\n",
       "      <td>cerah</td>\n",
       "    </tr>\n",
       "    <tr>\n",
       "      <th>290</th>\n",
       "      <td>2</td>\n",
       "      <td>berawan</td>\n",
       "    </tr>\n",
       "    <tr>\n",
       "      <th>49</th>\n",
       "      <td>1</td>\n",
       "      <td>cerah</td>\n",
       "    </tr>\n",
       "  </tbody>\n",
       "</table>\n",
       "</div>"
      ],
      "text/plain": [
       "     weathersit    cuaca\n",
       "36            1    cerah\n",
       "627           1    cerah\n",
       "360           2  berawan\n",
       "465           1    cerah\n",
       "161           1    cerah\n",
       "110           1    cerah\n",
       "248           3    hujan\n",
       "420           1    cerah\n",
       "290           2  berawan\n",
       "49            1    cerah"
      ]
     },
     "execution_count": 87,
     "metadata": {},
     "output_type": "execute_result"
    }
   ],
   "source": [
    "# Create a dictionary to map numerical weather codes to string descriptions\n",
    "weather_mapping = {\n",
    "    1: 'cerah',\n",
    "    2: 'berawan',\n",
    "    3: 'hujan',\n",
    "}\n",
    "\n",
    "# Create the 'cuaca' column using the mapping\n",
    "bike_data_day['cuaca'] = bike_data_day['weathersit'].map(weather_mapping)\n",
    "\n",
    "# Display the updated DataFrame to verify the changes\n",
    "bike_data_day[['weathersit', 'cuaca']].sample(10)"
   ]
  },
  {
   "cell_type": "markdown",
   "metadata": {},
   "source": [
    "buat kolom baru bernama musim\n"
   ]
  },
  {
   "cell_type": "code",
   "execution_count": 88,
   "metadata": {},
   "outputs": [
    {
     "data": {
      "text/html": [
       "<div>\n",
       "<style scoped>\n",
       "    .dataframe tbody tr th:only-of-type {\n",
       "        vertical-align: middle;\n",
       "    }\n",
       "\n",
       "    .dataframe tbody tr th {\n",
       "        vertical-align: top;\n",
       "    }\n",
       "\n",
       "    .dataframe thead th {\n",
       "        text-align: right;\n",
       "    }\n",
       "</style>\n",
       "<table border=\"1\" class=\"dataframe\">\n",
       "  <thead>\n",
       "    <tr style=\"text-align: right;\">\n",
       "      <th></th>\n",
       "      <th>season</th>\n",
       "      <th>musim</th>\n",
       "    </tr>\n",
       "  </thead>\n",
       "  <tbody>\n",
       "    <tr>\n",
       "      <th>350</th>\n",
       "      <td>4</td>\n",
       "      <td>musim_gugur</td>\n",
       "    </tr>\n",
       "    <tr>\n",
       "      <th>418</th>\n",
       "      <td>1</td>\n",
       "      <td>musim_dingin</td>\n",
       "    </tr>\n",
       "    <tr>\n",
       "      <th>516</th>\n",
       "      <td>2</td>\n",
       "      <td>musim_semi</td>\n",
       "    </tr>\n",
       "    <tr>\n",
       "      <th>225</th>\n",
       "      <td>3</td>\n",
       "      <td>musim_panas</td>\n",
       "    </tr>\n",
       "    <tr>\n",
       "      <th>352</th>\n",
       "      <td>4</td>\n",
       "      <td>musim_gugur</td>\n",
       "    </tr>\n",
       "    <tr>\n",
       "      <th>258</th>\n",
       "      <td>3</td>\n",
       "      <td>musim_panas</td>\n",
       "    </tr>\n",
       "    <tr>\n",
       "      <th>505</th>\n",
       "      <td>2</td>\n",
       "      <td>musim_semi</td>\n",
       "    </tr>\n",
       "    <tr>\n",
       "      <th>625</th>\n",
       "      <td>3</td>\n",
       "      <td>musim_panas</td>\n",
       "    </tr>\n",
       "    <tr>\n",
       "      <th>55</th>\n",
       "      <td>1</td>\n",
       "      <td>musim_dingin</td>\n",
       "    </tr>\n",
       "    <tr>\n",
       "      <th>614</th>\n",
       "      <td>3</td>\n",
       "      <td>musim_panas</td>\n",
       "    </tr>\n",
       "  </tbody>\n",
       "</table>\n",
       "</div>"
      ],
      "text/plain": [
       "     season         musim\n",
       "350       4   musim_gugur\n",
       "418       1  musim_dingin\n",
       "516       2    musim_semi\n",
       "225       3   musim_panas\n",
       "352       4   musim_gugur\n",
       "258       3   musim_panas\n",
       "505       2    musim_semi\n",
       "625       3   musim_panas\n",
       "55        1  musim_dingin\n",
       "614       3   musim_panas"
      ]
     },
     "execution_count": 88,
     "metadata": {},
     "output_type": "execute_result"
    }
   ],
   "source": [
    "# Create a dictionary to map numerical weather codes to string descriptions\n",
    "weather_mapping = {\n",
    "    1: 'musim_dingin',\n",
    "    2: 'musim_semi',\n",
    "    3: 'musim_panas',\n",
    "    4: 'musim_gugur',\n",
    "}\n",
    "\n",
    "# Create the 'cuaca' column using the mapping\n",
    "bike_data_day['musim'] = bike_data_day['season'].map(weather_mapping)\n",
    "\n",
    "# Display the updated DataFrame to verify the changes\n",
    "bike_data_day[['season', 'musim']].sample(10)"
   ]
  },
  {
   "cell_type": "code",
   "execution_count": 89,
   "metadata": {
    "colab": {
     "base_uri": "https://localhost:8080/",
     "height": 458
    },
    "id": "8Nu_kU5q98cf",
    "outputId": "7aabc69d-e6d3-4fbb-fd95-22a1416ef2bf"
   },
   "outputs": [
    {
     "data": {
      "image/png": "[encoded data removed]",
      "text/plain": [
       "<Figure size 1000x600 with 1 Axes>"
      ]
     },
     "metadata": {},
     "output_type": "display_data"
    }
   ],
   "source": [
    "# make a scatterplot\n",
    "plt.figure(figsize=(10, 6))\n",
    "\n",
    "sns.scatterplot(x='temp', y='cnt', data=bike_data_day, hue=\"cuaca\", style=\"musim\")\n",
    "plt.grid(which='minor', linestyle=':', linewidth=0.5)\n",
    "\n",
    "plt.xlabel(\"Temperature\")\n",
    "plt.ylabel(\"Count\")\n",
    "plt.show()"
   ]
  },
  {
   "cell_type": "markdown",
   "metadata": {},
   "source": [
    "**insight dari scatterplot :**\n",
    "\n",
    "- Cuaca cerah adalah kondisi ideal untuk bersepeda. Sebagian besar orang lebih memilih bersepeda ketika cuaca cerah.\n",
    "- Cuaca hujan menurunkan minat orang untuk menyewa sepeda.\n"
   ]
  },
  {
   "cell_type": "markdown",
   "metadata": {},
   "source": [
    "hilangkan outlier\n"
   ]
  },
  {
   "cell_type": "code",
   "execution_count": 91,
   "metadata": {},
   "outputs": [
    {
     "data": {
      "text/html": [
       "<div>\n",
       "<style scoped>\n",
       "    .dataframe tbody tr th:only-of-type {\n",
       "        vertical-align: middle;\n",
       "    }\n",
       "\n",
       "    .dataframe tbody tr th {\n",
       "        vertical-align: top;\n",
       "    }\n",
       "\n",
       "    .dataframe thead th {\n",
       "        text-align: right;\n",
       "    }\n",
       "</style>\n",
       "<table border=\"1\" class=\"dataframe\">\n",
       "  <thead>\n",
       "    <tr style=\"text-align: right;\">\n",
       "      <th></th>\n",
       "      <th>cnt</th>\n",
       "    </tr>\n",
       "  </thead>\n",
       "  <tbody>\n",
       "    <tr>\n",
       "      <th>0</th>\n",
       "      <td>985</td>\n",
       "    </tr>\n",
       "    <tr>\n",
       "      <th>1</th>\n",
       "      <td>801</td>\n",
       "    </tr>\n",
       "    <tr>\n",
       "      <th>2</th>\n",
       "      <td>1349</td>\n",
       "    </tr>\n",
       "    <tr>\n",
       "      <th>3</th>\n",
       "      <td>1562</td>\n",
       "    </tr>\n",
       "    <tr>\n",
       "      <th>4</th>\n",
       "      <td>1600</td>\n",
       "    </tr>\n",
       "    <tr>\n",
       "      <th>5</th>\n",
       "      <td>1606</td>\n",
       "    </tr>\n",
       "    <tr>\n",
       "      <th>6</th>\n",
       "      <td>1510</td>\n",
       "    </tr>\n",
       "    <tr>\n",
       "      <th>7</th>\n",
       "      <td>959</td>\n",
       "    </tr>\n",
       "    <tr>\n",
       "      <th>8</th>\n",
       "      <td>822</td>\n",
       "    </tr>\n",
       "    <tr>\n",
       "      <th>9</th>\n",
       "      <td>1321</td>\n",
       "    </tr>\n",
       "  </tbody>\n",
       "</table>\n",
       "</div>"
      ],
      "text/plain": [
       "    cnt\n",
       "0   985\n",
       "1   801\n",
       "2  1349\n",
       "3  1562\n",
       "4  1600\n",
       "5  1606\n",
       "6  1510\n",
       "7   959\n",
       "8   822\n",
       "9  1321"
      ]
     },
     "execution_count": 91,
     "metadata": {},
     "output_type": "execute_result"
    }
   ],
   "source": [
    "Q1 = bike_data_day['cnt'].quantile(0.25)\n",
    "Q3 = bike_data_day['cnt'].quantile(0.75)\n",
    "\n",
    "IQR = Q3 - Q1\n",
    "\n",
    "# tentukan batas atas dan batas bawah\n",
    "lower_bound = Q1 - 1.5 * IQR\n",
    "upper_bound = Q3 + 1.5 * IQR\n",
    "\n",
    "# hapus outlier\n",
    "bike_data_day[(bike_data_day['cnt'] >= lower_bound) & (bike_data_day['cnt'] <= upper_bound)]\n",
    "\n",
    "bike_data_day[['cnt']].head(10)"
   ]
  },
  {
   "cell_type": "markdown",
   "metadata": {},
   "source": [
    "Buat boxplot\n"
   ]
  },
  {
   "cell_type": "code",
   "execution_count": 93,
   "metadata": {},
   "outputs": [
    {
     "data": {
      "image/png": "[encoded data removed]",
      "text/plain": [
       "<Figure size 640x480 with 1 Axes>"
      ]
     },
     "metadata": {},
     "output_type": "display_data"
    }
   ],
   "source": [
    "sns.boxplot(x='cuaca', y='cnt', data=bike_data_day)\n",
    "plt.show()"
   ]
  },
  {
   "cell_type": "markdown",
   "metadata": {},
   "source": [
    "Dari boxplot ini, kita dapat menyimpulkan bahwa kondisi cuaca, terutama cuaca cerah, memiliki pengaruh yang signifikan terhadap jumlah penyewaan sepeda.\n"
   ]
  },
  {
   "cell_type": "markdown",
   "metadata": {
    "id": "NDAVBsT-J3CB"
   },
   "source": [
    "### Berapa persen peningkatan/penurunan penyewaan sepeda pada akhir pekan dibandingkan hari kerja?\n"
   ]
  },
  {
   "cell_type": "code",
   "execution_count": 31,
   "metadata": {
    "colab": {
     "base_uri": "https://localhost:8080/",
     "height": 147
    },
    "id": "Tf932dOLKJkF",
    "outputId": "741648f3-5d3d-4fd2-b968-7b5c1de9eb16"
   },
   "outputs": [
    {
     "data": {
      "text/plain": [
       "holiday        21\n",
       "workingday    500\n",
       "dtype: int64"
      ]
     },
     "execution_count": 31,
     "metadata": {},
     "output_type": "execute_result"
    }
   ],
   "source": [
    "bike_data_day[[\"holiday\", \"workingday\"]].sum()"
   ]
  },
  {
   "cell_type": "markdown",
   "metadata": {
    "id": "Cvm4kdBWO_py"
   },
   "source": [
    "cari berapa persen jumlah peningkatan/penurunan penyewaan pada akhir pekan\n"
   ]
  },
  {
   "cell_type": "code",
   "execution_count": 115,
   "metadata": {},
   "outputs": [],
   "source": [
    "def hitung_persentase_penyewaan(data):\n",
    "    holiday_rentals = bike_data_day[bike_data_day[\"holiday\"] == 1]['cnt'].sum()\n",
    "    workingday_rentals = bike_data_day[bike_data_day[\"workingday\"] == 0]['cnt'].sum()\n",
    "    total_rentals = bike_data_day['cnt'].sum()\n",
    "\n",
    "    # Hitung persentase penyewaan di akhir pekan\n",
    "    holiday_percentage = (holiday_rentals / total_rentals) * 100\n",
    "\n",
    "    # Hitung persentase penyewaan di hari kerja\n",
    "    workingday_percentage = (workingday_rentals / total_rentals) * 100\n",
    "\n",
    "    print(f\"Jumlah persentase penyewaan sepeda pada akhir pekan: {holiday_percentage:.2f}%\")\n",
    "    print(f\"Jumlah persentase penyewaan sepeda pada hari kerja: {workingday_percentage:.2f}%\")\n",
    "\n",
    "    # Hitung rata-rata persentase penyewaan (sebagai contoh ambang batas)\n",
    "    average_percentage = (holiday_percentage + workingday_percentage) / 2\n",
    "\n",
    "    print(f\"Rata-rata persentase penyewaan : {average_percentage:.2f}%\")\n",
    "\n",
    "\n",
    "    # Bandingkan persentase dan tentukan peningkatan/penurunan\n",
    "    if holiday_percentage > average_percentage:\n",
    "        print(f\"Penyewaan di akhir pekan lebih tinggi sebesar {holiday_percentage - average_percentage:.2f}% dibandingkan rata-rata.\")\n",
    "    else:\n",
    "        print(f\"Penyewaan di akhir pekan lebih rendah sebesar {average_percentage - holiday_percentage:.2f}% dibandingkan rata-rata.\")\n",
    "\n",
    "    if workingday_percentage > average_percentage:\n",
    "        print(f\"Penyewaan di hari kerja lebih tinggi sebesar {workingday_percentage - average_percentage:.2f}% dibandingkan rata-rata.\")\n",
    "    else:\n",
    "        print(f\"Penyewaan di hari kerja lebih rendah sebesar {average_percentage - workingday_percentage:.2f}% dibandingkan rata-rata.\")\n",
    "        \n",
    "     # Pastikan selalu ada nilai yang dikembalikan\n",
    "    if total_rentals == 0:\n",
    "        return None, None  # Jika tidak ada penyewaan, kembalikan None\n",
    "    else:\n",
    "        return holiday_percentage, workingday_percentage"
   ]
  },
  {
   "cell_type": "markdown",
   "metadata": {},
   "source": [
    "Panggil function\n"
   ]
  },
  {
   "cell_type": "code",
   "execution_count": 72,
   "metadata": {
    "colab": {
     "base_uri": "https://localhost:8080/"
    },
    "id": "KVQAwd9PNdzX",
    "outputId": "e841ff23-98d6-4509-bbb6-7fbf714c54df"
   },
   "outputs": [
    {
     "name": "stdout",
     "output_type": "stream",
     "text": [
      "Jumlah persentase penyewaan sepeda pada akhir pekan: 2.38%\n",
      "Jumlah persentase penyewaan sepeda pada hari kerja: 30.38%\n",
      "Rata-rata persentase penyewaan : 16.38%\n",
      "Penyewaan di akhir pekan lebih rendah sebesar 14.00% dibandingkan rata-rata.\n",
      "Penyewaan di hari kerja lebih tinggi sebesar 14.00% dibandingkan rata-rata.\n"
     ]
    }
   ],
   "source": [
    "hitung_persentase_penyewaan(bike_data_day)"
   ]
  },
  {
   "cell_type": "markdown",
   "metadata": {
    "id": "enMqM1-4S8fq"
   },
   "source": [
    "**Insight**\n",
    "\n",
    "- Terdapat penurunan penyewaan sepeda di akhir pekan sebanyak 14% dari rata-rata yakni sebesar 16.38%. Karena jumlah persentase penyewaannya hanya sebesar 2.30%.\n",
    "- Sedangkan di hari kerja persentase penyewaan lebih tinggi dari rata-rata, yakni sebesar 14% dari rata-rata yang sebesar 16.38%. Karena jumlah persentase penyewaannya sebesar 30.38%\n"
   ]
  },
  {
   "cell_type": "markdown",
   "metadata": {
    "id": "2_WJoyz5VWNG"
   },
   "source": [
    "### Bisakah kita mengidentifikasi jam-jam puncak penyewaan sepeda setiap hari?\n"
   ]
  },
  {
   "cell_type": "code",
   "execution_count": 34,
   "metadata": {
    "colab": {
     "base_uri": "https://localhost:8080/",
     "height": 300
    },
    "id": "FsQJqnbzVg8W",
    "outputId": "97a66696-22b8-405b-af53-a8d45eb5d1fa"
   },
   "outputs": [
    {
     "data": {
      "text/html": [
       "<div>\n",
       "<style scoped>\n",
       "    .dataframe tbody tr th:only-of-type {\n",
       "        vertical-align: middle;\n",
       "    }\n",
       "\n",
       "    .dataframe tbody tr th {\n",
       "        vertical-align: top;\n",
       "    }\n",
       "\n",
       "    .dataframe thead th {\n",
       "        text-align: right;\n",
       "    }\n",
       "</style>\n",
       "<table border=\"1\" class=\"dataframe\">\n",
       "  <thead>\n",
       "    <tr style=\"text-align: right;\">\n",
       "      <th></th>\n",
       "      <th>hr</th>\n",
       "      <th>cnt</th>\n",
       "    </tr>\n",
       "  </thead>\n",
       "  <tbody>\n",
       "    <tr>\n",
       "      <th>count</th>\n",
       "      <td>17379.000000</td>\n",
       "      <td>17379.000000</td>\n",
       "    </tr>\n",
       "    <tr>\n",
       "      <th>mean</th>\n",
       "      <td>11.546752</td>\n",
       "      <td>189.463088</td>\n",
       "    </tr>\n",
       "    <tr>\n",
       "      <th>std</th>\n",
       "      <td>6.914405</td>\n",
       "      <td>181.387599</td>\n",
       "    </tr>\n",
       "    <tr>\n",
       "      <th>min</th>\n",
       "      <td>0.000000</td>\n",
       "      <td>1.000000</td>\n",
       "    </tr>\n",
       "    <tr>\n",
       "      <th>25%</th>\n",
       "      <td>6.000000</td>\n",
       "      <td>40.000000</td>\n",
       "    </tr>\n",
       "    <tr>\n",
       "      <th>50%</th>\n",
       "      <td>12.000000</td>\n",
       "      <td>142.000000</td>\n",
       "    </tr>\n",
       "    <tr>\n",
       "      <th>75%</th>\n",
       "      <td>18.000000</td>\n",
       "      <td>281.000000</td>\n",
       "    </tr>\n",
       "    <tr>\n",
       "      <th>max</th>\n",
       "      <td>23.000000</td>\n",
       "      <td>977.000000</td>\n",
       "    </tr>\n",
       "  </tbody>\n",
       "</table>\n",
       "</div>"
      ],
      "text/plain": [
       "                 hr           cnt\n",
       "count  17379.000000  17379.000000\n",
       "mean      11.546752    189.463088\n",
       "std        6.914405    181.387599\n",
       "min        0.000000      1.000000\n",
       "25%        6.000000     40.000000\n",
       "50%       12.000000    142.000000\n",
       "75%       18.000000    281.000000\n",
       "max       23.000000    977.000000"
      ]
     },
     "execution_count": 34,
     "metadata": {},
     "output_type": "execute_result"
    }
   ],
   "source": [
    "bike_data_hour[[\"hr\", \"cnt\"]].describe()"
   ]
  },
  {
   "cell_type": "markdown",
   "metadata": {
    "id": "pB9K4A2LZYwY"
   },
   "source": [
    "dari hasil statistik tersebut, ditemukan :\n",
    "\n",
    "- rata-rata waktu waktu penyewaan terjadi pada pukul 11.54 siang dengan jumlah rata-rata penyewaan sebanyak 189 sepeda.\n",
    "- Jam tertinggi dalam penyewaan terjadi pada jam 18 (6 sore) dengan rata-rata penyewaan sebanyak 281 sepeda.\n"
   ]
  },
  {
   "cell_type": "markdown",
   "metadata": {
    "id": "diXkQifUF0-H"
   },
   "source": [
    "urutkan jam penyewaan dari yang sedikit sampai terbanyak\n"
   ]
  },
  {
   "cell_type": "code",
   "execution_count": 35,
   "metadata": {
    "colab": {
     "base_uri": "https://localhost:8080/",
     "height": 868
    },
    "id": "6DO1e1t0F6ys",
    "outputId": "e2c485ff-14e6-48cb-c95a-d89448449dd8"
   },
   "outputs": [
    {
     "data": {
      "text/plain": [
       "hr\n",
       "4       4428\n",
       "3       8174\n",
       "5      14261\n",
       "2      16352\n",
       "1      24164\n",
       "0      39130\n",
       "6      55132\n",
       "23     63941\n",
       "22     95612\n",
       "21    125445\n",
       "10    126257\n",
       "11    151320\n",
       "7     154171\n",
       "9     159438\n",
       "20    164550\n",
       "14    175652\n",
       "15    183149\n",
       "12    184414\n",
       "13    184919\n",
       "19    226789\n",
       "16    227748\n",
       "8     261001\n",
       "18    309772\n",
       "17    336860\n",
       "Name: cnt, dtype: int64"
      ]
     },
     "execution_count": 35,
     "metadata": {},
     "output_type": "execute_result"
    }
   ],
   "source": [
    "bike_data_hour.groupby(by=\"hr\")[\"cnt\"].sum().sort_values(ascending=True)"
   ]
  },
  {
   "cell_type": "markdown",
   "metadata": {
    "id": "hbXPuf6HHuNa"
   },
   "source": [
    "Jika dilihat, maka jam empat pagi memiliki total penyewaan yang paling sedikit, dan jam lima sore memiliki total penyewaan paling banyak.\n"
   ]
  },
  {
   "cell_type": "markdown",
   "metadata": {
    "id": "0yLVDCStI7__"
   },
   "source": [
    "### Bagaimana tren penyewaan sepeda berubah dari tahun 2011 ke 2012?\n"
   ]
  },
  {
   "cell_type": "markdown",
   "metadata": {
    "id": "yiea6o2rODQJ"
   },
   "source": [
    "buat kolom baru bernama tahun di data bike_data_day\n"
   ]
  },
  {
   "cell_type": "code",
   "execution_count": 36,
   "metadata": {
    "colab": {
     "base_uri": "https://localhost:8080/",
     "height": 519
    },
    "collapsed": true,
    "id": "eRDohfUTMY-N",
    "outputId": "7c028397-c54d-407a-ae40-3146e662a5a5"
   },
   "outputs": [
    {
     "data": {
      "text/html": [
       "<div>\n",
       "<style scoped>\n",
       "    .dataframe tbody tr th:only-of-type {\n",
       "        vertical-align: middle;\n",
       "    }\n",
       "\n",
       "    .dataframe tbody tr th {\n",
       "        vertical-align: top;\n",
       "    }\n",
       "\n",
       "    .dataframe thead th {\n",
       "        text-align: right;\n",
       "    }\n",
       "</style>\n",
       "<table border=\"1\" class=\"dataframe\">\n",
       "  <thead>\n",
       "    <tr style=\"text-align: right;\">\n",
       "      <th></th>\n",
       "      <th>instant</th>\n",
       "      <th>dteday</th>\n",
       "      <th>season</th>\n",
       "      <th>yr</th>\n",
       "      <th>mnth</th>\n",
       "      <th>holiday</th>\n",
       "      <th>weekday</th>\n",
       "      <th>workingday</th>\n",
       "      <th>weathersit</th>\n",
       "      <th>temp</th>\n",
       "      <th>atemp</th>\n",
       "      <th>hum</th>\n",
       "      <th>windspeed</th>\n",
       "      <th>casual</th>\n",
       "      <th>registered</th>\n",
       "      <th>cnt</th>\n",
       "      <th>cuaca</th>\n",
       "      <th>tahun</th>\n",
       "    </tr>\n",
       "  </thead>\n",
       "  <tbody>\n",
       "    <tr>\n",
       "      <th>378</th>\n",
       "      <td>379</td>\n",
       "      <td>2012-01-14</td>\n",
       "      <td>1</td>\n",
       "      <td>1</td>\n",
       "      <td>1</td>\n",
       "      <td>0</td>\n",
       "      <td>6</td>\n",
       "      <td>0</td>\n",
       "      <td>1</td>\n",
       "      <td>0.180000</td>\n",
       "      <td>0.183087</td>\n",
       "      <td>0.457500</td>\n",
       "      <td>0.187183</td>\n",
       "      <td>333</td>\n",
       "      <td>2160</td>\n",
       "      <td>2493</td>\n",
       "      <td>cerah</td>\n",
       "      <td>2012</td>\n",
       "    </tr>\n",
       "    <tr>\n",
       "      <th>586</th>\n",
       "      <td>587</td>\n",
       "      <td>2012-08-09</td>\n",
       "      <td>3</td>\n",
       "      <td>1</td>\n",
       "      <td>8</td>\n",
       "      <td>0</td>\n",
       "      <td>4</td>\n",
       "      <td>1</td>\n",
       "      <td>1</td>\n",
       "      <td>0.755833</td>\n",
       "      <td>0.699508</td>\n",
       "      <td>0.620417</td>\n",
       "      <td>0.156100</td>\n",
       "      <td>1196</td>\n",
       "      <td>6090</td>\n",
       "      <td>7286</td>\n",
       "      <td>hujan</td>\n",
       "      <td>2012</td>\n",
       "    </tr>\n",
       "    <tr>\n",
       "      <th>485</th>\n",
       "      <td>486</td>\n",
       "      <td>2012-04-30</td>\n",
       "      <td>2</td>\n",
       "      <td>1</td>\n",
       "      <td>4</td>\n",
       "      <td>0</td>\n",
       "      <td>1</td>\n",
       "      <td>1</td>\n",
       "      <td>2</td>\n",
       "      <td>0.464167</td>\n",
       "      <td>0.457696</td>\n",
       "      <td>0.570000</td>\n",
       "      <td>0.171638</td>\n",
       "      <td>665</td>\n",
       "      <td>4907</td>\n",
       "      <td>5572</td>\n",
       "      <td>berawan</td>\n",
       "      <td>2012</td>\n",
       "    </tr>\n",
       "    <tr>\n",
       "      <th>713</th>\n",
       "      <td>714</td>\n",
       "      <td>2012-12-14</td>\n",
       "      <td>4</td>\n",
       "      <td>1</td>\n",
       "      <td>12</td>\n",
       "      <td>0</td>\n",
       "      <td>5</td>\n",
       "      <td>1</td>\n",
       "      <td>1</td>\n",
       "      <td>0.281667</td>\n",
       "      <td>0.294192</td>\n",
       "      <td>0.642917</td>\n",
       "      <td>0.131229</td>\n",
       "      <td>429</td>\n",
       "      <td>5182</td>\n",
       "      <td>5611</td>\n",
       "      <td>badai</td>\n",
       "      <td>2012</td>\n",
       "    </tr>\n",
       "    <tr>\n",
       "      <th>11</th>\n",
       "      <td>12</td>\n",
       "      <td>2011-01-12</td>\n",
       "      <td>1</td>\n",
       "      <td>0</td>\n",
       "      <td>1</td>\n",
       "      <td>0</td>\n",
       "      <td>3</td>\n",
       "      <td>1</td>\n",
       "      <td>1</td>\n",
       "      <td>0.172727</td>\n",
       "      <td>0.160473</td>\n",
       "      <td>0.599545</td>\n",
       "      <td>0.304627</td>\n",
       "      <td>25</td>\n",
       "      <td>1137</td>\n",
       "      <td>1162</td>\n",
       "      <td>cerah</td>\n",
       "      <td>2011</td>\n",
       "    </tr>\n",
       "    <tr>\n",
       "      <th>513</th>\n",
       "      <td>514</td>\n",
       "      <td>2012-05-28</td>\n",
       "      <td>2</td>\n",
       "      <td>1</td>\n",
       "      <td>5</td>\n",
       "      <td>1</td>\n",
       "      <td>1</td>\n",
       "      <td>0</td>\n",
       "      <td>1</td>\n",
       "      <td>0.712500</td>\n",
       "      <td>0.679300</td>\n",
       "      <td>0.676250</td>\n",
       "      <td>0.196521</td>\n",
       "      <td>2557</td>\n",
       "      <td>3486</td>\n",
       "      <td>6043</td>\n",
       "      <td>berawan</td>\n",
       "      <td>2012</td>\n",
       "    </tr>\n",
       "    <tr>\n",
       "      <th>438</th>\n",
       "      <td>439</td>\n",
       "      <td>2012-03-14</td>\n",
       "      <td>1</td>\n",
       "      <td>1</td>\n",
       "      <td>3</td>\n",
       "      <td>0</td>\n",
       "      <td>3</td>\n",
       "      <td>1</td>\n",
       "      <td>1</td>\n",
       "      <td>0.572500</td>\n",
       "      <td>0.548617</td>\n",
       "      <td>0.507083</td>\n",
       "      <td>0.115062</td>\n",
       "      <td>997</td>\n",
       "      <td>5315</td>\n",
       "      <td>6312</td>\n",
       "      <td>cerah</td>\n",
       "      <td>2012</td>\n",
       "    </tr>\n",
       "    <tr>\n",
       "      <th>508</th>\n",
       "      <td>509</td>\n",
       "      <td>2012-05-23</td>\n",
       "      <td>2</td>\n",
       "      <td>1</td>\n",
       "      <td>5</td>\n",
       "      <td>0</td>\n",
       "      <td>3</td>\n",
       "      <td>1</td>\n",
       "      <td>2</td>\n",
       "      <td>0.621667</td>\n",
       "      <td>0.584612</td>\n",
       "      <td>0.774583</td>\n",
       "      <td>0.102000</td>\n",
       "      <td>766</td>\n",
       "      <td>4494</td>\n",
       "      <td>5260</td>\n",
       "      <td>berawan</td>\n",
       "      <td>2012</td>\n",
       "    </tr>\n",
       "    <tr>\n",
       "      <th>251</th>\n",
       "      <td>252</td>\n",
       "      <td>2011-09-09</td>\n",
       "      <td>3</td>\n",
       "      <td>0</td>\n",
       "      <td>9</td>\n",
       "      <td>0</td>\n",
       "      <td>5</td>\n",
       "      <td>1</td>\n",
       "      <td>2</td>\n",
       "      <td>0.650000</td>\n",
       "      <td>0.578946</td>\n",
       "      <td>0.897917</td>\n",
       "      <td>0.124379</td>\n",
       "      <td>417</td>\n",
       "      <td>3127</td>\n",
       "      <td>3544</td>\n",
       "      <td>hujan</td>\n",
       "      <td>2011</td>\n",
       "    </tr>\n",
       "    <tr>\n",
       "      <th>83</th>\n",
       "      <td>84</td>\n",
       "      <td>2011-03-25</td>\n",
       "      <td>2</td>\n",
       "      <td>0</td>\n",
       "      <td>3</td>\n",
       "      <td>0</td>\n",
       "      <td>5</td>\n",
       "      <td>1</td>\n",
       "      <td>1</td>\n",
       "      <td>0.264167</td>\n",
       "      <td>0.256312</td>\n",
       "      <td>0.495000</td>\n",
       "      <td>0.230725</td>\n",
       "      <td>300</td>\n",
       "      <td>1910</td>\n",
       "      <td>2210</td>\n",
       "      <td>berawan</td>\n",
       "      <td>2011</td>\n",
       "    </tr>\n",
       "    <tr>\n",
       "      <th>324</th>\n",
       "      <td>325</td>\n",
       "      <td>2011-11-21</td>\n",
       "      <td>4</td>\n",
       "      <td>0</td>\n",
       "      <td>11</td>\n",
       "      <td>0</td>\n",
       "      <td>1</td>\n",
       "      <td>1</td>\n",
       "      <td>3</td>\n",
       "      <td>0.447500</td>\n",
       "      <td>0.445062</td>\n",
       "      <td>0.910000</td>\n",
       "      <td>0.138054</td>\n",
       "      <td>220</td>\n",
       "      <td>2545</td>\n",
       "      <td>2765</td>\n",
       "      <td>badai</td>\n",
       "      <td>2011</td>\n",
       "    </tr>\n",
       "    <tr>\n",
       "      <th>577</th>\n",
       "      <td>578</td>\n",
       "      <td>2012-07-31</td>\n",
       "      <td>3</td>\n",
       "      <td>1</td>\n",
       "      <td>7</td>\n",
       "      <td>0</td>\n",
       "      <td>2</td>\n",
       "      <td>1</td>\n",
       "      <td>1</td>\n",
       "      <td>0.713333</td>\n",
       "      <td>0.662896</td>\n",
       "      <td>0.704167</td>\n",
       "      <td>0.165425</td>\n",
       "      <td>968</td>\n",
       "      <td>6248</td>\n",
       "      <td>7216</td>\n",
       "      <td>hujan</td>\n",
       "      <td>2012</td>\n",
       "    </tr>\n",
       "    <tr>\n",
       "      <th>116</th>\n",
       "      <td>117</td>\n",
       "      <td>2011-04-27</td>\n",
       "      <td>2</td>\n",
       "      <td>0</td>\n",
       "      <td>4</td>\n",
       "      <td>0</td>\n",
       "      <td>3</td>\n",
       "      <td>1</td>\n",
       "      <td>2</td>\n",
       "      <td>0.620000</td>\n",
       "      <td>0.575142</td>\n",
       "      <td>0.835417</td>\n",
       "      <td>0.312200</td>\n",
       "      <td>547</td>\n",
       "      <td>3325</td>\n",
       "      <td>3872</td>\n",
       "      <td>berawan</td>\n",
       "      <td>2011</td>\n",
       "    </tr>\n",
       "    <tr>\n",
       "      <th>122</th>\n",
       "      <td>123</td>\n",
       "      <td>2011-05-03</td>\n",
       "      <td>2</td>\n",
       "      <td>0</td>\n",
       "      <td>5</td>\n",
       "      <td>0</td>\n",
       "      <td>2</td>\n",
       "      <td>1</td>\n",
       "      <td>2</td>\n",
       "      <td>0.616667</td>\n",
       "      <td>0.582079</td>\n",
       "      <td>0.697083</td>\n",
       "      <td>0.342667</td>\n",
       "      <td>603</td>\n",
       "      <td>3848</td>\n",
       "      <td>4451</td>\n",
       "      <td>berawan</td>\n",
       "      <td>2011</td>\n",
       "    </tr>\n",
       "    <tr>\n",
       "      <th>189</th>\n",
       "      <td>190</td>\n",
       "      <td>2011-07-09</td>\n",
       "      <td>3</td>\n",
       "      <td>0</td>\n",
       "      <td>7</td>\n",
       "      <td>0</td>\n",
       "      <td>6</td>\n",
       "      <td>0</td>\n",
       "      <td>1</td>\n",
       "      <td>0.733333</td>\n",
       "      <td>0.664158</td>\n",
       "      <td>0.609167</td>\n",
       "      <td>0.167912</td>\n",
       "      <td>1988</td>\n",
       "      <td>3348</td>\n",
       "      <td>5336</td>\n",
       "      <td>hujan</td>\n",
       "      <td>2011</td>\n",
       "    </tr>\n",
       "  </tbody>\n",
       "</table>\n",
       "</div>"
      ],
      "text/plain": [
       "     instant     dteday  season  yr  mnth  holiday  weekday  workingday  \\\n",
       "378      379 2012-01-14       1   1     1        0        6           0   \n",
       "586      587 2012-08-09       3   1     8        0        4           1   \n",
       "485      486 2012-04-30       2   1     4        0        1           1   \n",
       "713      714 2012-12-14       4   1    12        0        5           1   \n",
       "11        12 2011-01-12       1   0     1        0        3           1   \n",
       "513      514 2012-05-28       2   1     5        1        1           0   \n",
       "438      439 2012-03-14       1   1     3        0        3           1   \n",
       "508      509 2012-05-23       2   1     5        0        3           1   \n",
       "251      252 2011-09-09       3   0     9        0        5           1   \n",
       "83        84 2011-03-25       2   0     3        0        5           1   \n",
       "324      325 2011-11-21       4   0    11        0        1           1   \n",
       "577      578 2012-07-31       3   1     7        0        2           1   \n",
       "116      117 2011-04-27       2   0     4        0        3           1   \n",
       "122      123 2011-05-03       2   0     5        0        2           1   \n",
       "189      190 2011-07-09       3   0     7        0        6           0   \n",
       "\n",
       "     weathersit      temp     atemp       hum  windspeed  casual  registered  \\\n",
       "378           1  0.180000  0.183087  0.457500   0.187183     333        2160   \n",
       "586           1  0.755833  0.699508  0.620417   0.156100    1196        6090   \n",
       "485           2  0.464167  0.457696  0.570000   0.171638     665        4907   \n",
       "713           1  0.281667  0.294192  0.642917   0.131229     429        5182   \n",
       "11            1  0.172727  0.160473  0.599545   0.304627      25        1137   \n",
       "513           1  0.712500  0.679300  0.676250   0.196521    2557        3486   \n",
       "438           1  0.572500  0.548617  0.507083   0.115062     997        5315   \n",
       "508           2  0.621667  0.584612  0.774583   0.102000     766        4494   \n",
       "251           2  0.650000  0.578946  0.897917   0.124379     417        3127   \n",
       "83            1  0.264167  0.256312  0.495000   0.230725     300        1910   \n",
       "324           3  0.447500  0.445062  0.910000   0.138054     220        2545   \n",
       "577           1  0.713333  0.662896  0.704167   0.165425     968        6248   \n",
       "116           2  0.620000  0.575142  0.835417   0.312200     547        3325   \n",
       "122           2  0.616667  0.582079  0.697083   0.342667     603        3848   \n",
       "189           1  0.733333  0.664158  0.609167   0.167912    1988        3348   \n",
       "\n",
       "      cnt    cuaca  tahun  \n",
       "378  2493    cerah   2012  \n",
       "586  7286    hujan   2012  \n",
       "485  5572  berawan   2012  \n",
       "713  5611    badai   2012  \n",
       "11   1162    cerah   2011  \n",
       "513  6043  berawan   2012  \n",
       "438  6312    cerah   2012  \n",
       "508  5260  berawan   2012  \n",
       "251  3544    hujan   2011  \n",
       "83   2210  berawan   2011  \n",
       "324  2765    badai   2011  \n",
       "577  7216    hujan   2012  \n",
       "116  3872  berawan   2011  \n",
       "122  4451  berawan   2011  \n",
       "189  5336    hujan   2011  "
      ]
     },
     "execution_count": 36,
     "metadata": {},
     "output_type": "execute_result"
    }
   ],
   "source": [
    "# Create a dictionary to map numerical weather codes to string descriptions\n",
    "weather_mapping = {\n",
    "    0: 2011,\n",
    "    1: 2012\n",
    "}\n",
    "\n",
    "# Create the 'cuaca' column using the mapping\n",
    "bike_data_day['tahun'] = bike_data_day['yr'].map(weather_mapping)\n",
    "\n",
    "bike_data_day.sample(15)"
   ]
  },
  {
   "cell_type": "markdown",
   "metadata": {
    "id": "wdJZFuTqJRqA"
   },
   "source": [
    "#### Melihat tren penyewaan sepeda sepanjang tahun 2011\n"
   ]
  },
  {
   "cell_type": "markdown",
   "metadata": {
    "id": "iwkuZKbQLO3p"
   },
   "source": [
    "Melihat tren penyewaan sepeda tiap bulan di tahun 2011 dari yang terkecil sampai yang terbanyak\n"
   ]
  },
  {
   "cell_type": "code",
   "execution_count": 37,
   "metadata": {
    "colab": {
     "base_uri": "https://localhost:8080/",
     "height": 457
    },
    "id": "JGKJ1pwcJdwU",
    "outputId": "01490ce4-8d82-4763-befa-19fdc62fde54"
   },
   "outputs": [
    {
     "data": {
      "text/html": [
       "<div>\n",
       "<style scoped>\n",
       "    .dataframe tbody tr th:only-of-type {\n",
       "        vertical-align: middle;\n",
       "    }\n",
       "\n",
       "    .dataframe tbody tr th {\n",
       "        vertical-align: top;\n",
       "    }\n",
       "\n",
       "    .dataframe thead th {\n",
       "        text-align: right;\n",
       "    }\n",
       "</style>\n",
       "<table border=\"1\" class=\"dataframe\">\n",
       "  <thead>\n",
       "    <tr style=\"text-align: right;\">\n",
       "      <th></th>\n",
       "      <th>cnt</th>\n",
       "    </tr>\n",
       "    <tr>\n",
       "      <th>mnth</th>\n",
       "      <th></th>\n",
       "    </tr>\n",
       "  </thead>\n",
       "  <tbody>\n",
       "    <tr>\n",
       "      <th>6</th>\n",
       "      <td>143512</td>\n",
       "    </tr>\n",
       "    <tr>\n",
       "      <th>7</th>\n",
       "      <td>141341</td>\n",
       "    </tr>\n",
       "    <tr>\n",
       "      <th>8</th>\n",
       "      <td>136691</td>\n",
       "    </tr>\n",
       "    <tr>\n",
       "      <th>5</th>\n",
       "      <td>135821</td>\n",
       "    </tr>\n",
       "    <tr>\n",
       "      <th>9</th>\n",
       "      <td>127418</td>\n",
       "    </tr>\n",
       "    <tr>\n",
       "      <th>10</th>\n",
       "      <td>123511</td>\n",
       "    </tr>\n",
       "    <tr>\n",
       "      <th>11</th>\n",
       "      <td>102167</td>\n",
       "    </tr>\n",
       "    <tr>\n",
       "      <th>4</th>\n",
       "      <td>94870</td>\n",
       "    </tr>\n",
       "    <tr>\n",
       "      <th>12</th>\n",
       "      <td>87323</td>\n",
       "    </tr>\n",
       "    <tr>\n",
       "      <th>3</th>\n",
       "      <td>64045</td>\n",
       "    </tr>\n",
       "    <tr>\n",
       "      <th>2</th>\n",
       "      <td>48215</td>\n",
       "    </tr>\n",
       "    <tr>\n",
       "      <th>1</th>\n",
       "      <td>38189</td>\n",
       "    </tr>\n",
       "  </tbody>\n",
       "</table>\n",
       "</div>"
      ],
      "text/plain": [
       "         cnt\n",
       "mnth        \n",
       "6     143512\n",
       "7     141341\n",
       "8     136691\n",
       "5     135821\n",
       "9     127418\n",
       "10    123511\n",
       "11    102167\n",
       "4      94870\n",
       "12     87323\n",
       "3      64045\n",
       "2      48215\n",
       "1      38189"
      ]
     },
     "execution_count": 37,
     "metadata": {},
     "output_type": "execute_result"
    }
   ],
   "source": [
    "bike_2011 = bike_data_day[bike_data_day[\"tahun\"] == 2011]\n",
    "\n",
    "bike_2011.groupby(by=\"mnth\").agg({\n",
    "    \"cnt\": \"sum\"\n",
    "}).sort_values(by=\"cnt\", ascending=False)"
   ]
  },
  {
   "cell_type": "markdown",
   "metadata": {
    "id": "Glnnl0tQMErt"
   },
   "source": [
    "Total penyewaan sepeda sepanjang tahun 2011.\n"
   ]
  },
  {
   "cell_type": "code",
   "execution_count": 38,
   "metadata": {
    "colab": {
     "base_uri": "https://localhost:8080/"
    },
    "id": "5Uh_VyH6MK7O",
    "outputId": "45f240be-35a1-463c-85c3-75b4af161a41"
   },
   "outputs": [
    {
     "name": "stdout",
     "output_type": "stream",
     "text": [
      "Total penyewaan sepeda sepanjang tahun 2012 adalah 1,243,103 sepeda.\n"
     ]
    }
   ],
   "source": [
    "bike_2011 = bike_data_day[bike_data_day[\"tahun\"] == 2011]\n",
    "\n",
    "formated_number = \"{:,.0f}\".format(bike_2011[\"cnt\"].sum())\n",
    "print(f\"Total penyewaan sepeda sepanjang tahun 2012 adalah {formated_number} sepeda.\")"
   ]
  },
  {
   "cell_type": "markdown",
   "metadata": {
    "id": "kUHjrWo6OhiF"
   },
   "source": [
    "dari tren penyewaan sepeda sepanjang tahun 2011, terlihat memliki jumlah penyewaan sebanyak 1.243.103 sepeda\n"
   ]
  },
  {
   "cell_type": "markdown",
   "metadata": {
    "id": "p95qq8cOOJBU"
   },
   "source": [
    "#### Melihat tren penyewaan sepeda sepanjang tahun 2012\n"
   ]
  },
  {
   "cell_type": "markdown",
   "metadata": {
    "id": "8hM7i9EDOJBV"
   },
   "source": [
    "Melihat tren penyewaan sepeda tiap bulan di tahun 2012 dari yang terkecil sampai yang terbanyak\n"
   ]
  },
  {
   "cell_type": "code",
   "execution_count": 39,
   "metadata": {
    "colab": {
     "base_uri": "https://localhost:8080/",
     "height": 457
    },
    "id": "A-F3RH6EOJBV",
    "outputId": "bc3b7e47-6305-4a35-b184-91d25748d4be"
   },
   "outputs": [
    {
     "data": {
      "text/html": [
       "<div>\n",
       "<style scoped>\n",
       "    .dataframe tbody tr th:only-of-type {\n",
       "        vertical-align: middle;\n",
       "    }\n",
       "\n",
       "    .dataframe tbody tr th {\n",
       "        vertical-align: top;\n",
       "    }\n",
       "\n",
       "    .dataframe thead th {\n",
       "        text-align: right;\n",
       "    }\n",
       "</style>\n",
       "<table border=\"1\" class=\"dataframe\">\n",
       "  <thead>\n",
       "    <tr style=\"text-align: right;\">\n",
       "      <th></th>\n",
       "      <th>cnt</th>\n",
       "    </tr>\n",
       "    <tr>\n",
       "      <th>mnth</th>\n",
       "      <th></th>\n",
       "    </tr>\n",
       "  </thead>\n",
       "  <tbody>\n",
       "    <tr>\n",
       "      <th>9</th>\n",
       "      <td>218573</td>\n",
       "    </tr>\n",
       "    <tr>\n",
       "      <th>8</th>\n",
       "      <td>214503</td>\n",
       "    </tr>\n",
       "    <tr>\n",
       "      <th>7</th>\n",
       "      <td>203607</td>\n",
       "    </tr>\n",
       "    <tr>\n",
       "      <th>6</th>\n",
       "      <td>202830</td>\n",
       "    </tr>\n",
       "    <tr>\n",
       "      <th>10</th>\n",
       "      <td>198841</td>\n",
       "    </tr>\n",
       "    <tr>\n",
       "      <th>5</th>\n",
       "      <td>195865</td>\n",
       "    </tr>\n",
       "    <tr>\n",
       "      <th>4</th>\n",
       "      <td>174224</td>\n",
       "    </tr>\n",
       "    <tr>\n",
       "      <th>3</th>\n",
       "      <td>164875</td>\n",
       "    </tr>\n",
       "    <tr>\n",
       "      <th>11</th>\n",
       "      <td>152664</td>\n",
       "    </tr>\n",
       "    <tr>\n",
       "      <th>12</th>\n",
       "      <td>123713</td>\n",
       "    </tr>\n",
       "    <tr>\n",
       "      <th>2</th>\n",
       "      <td>103137</td>\n",
       "    </tr>\n",
       "    <tr>\n",
       "      <th>1</th>\n",
       "      <td>96744</td>\n",
       "    </tr>\n",
       "  </tbody>\n",
       "</table>\n",
       "</div>"
      ],
      "text/plain": [
       "         cnt\n",
       "mnth        \n",
       "9     218573\n",
       "8     214503\n",
       "7     203607\n",
       "6     202830\n",
       "10    198841\n",
       "5     195865\n",
       "4     174224\n",
       "3     164875\n",
       "11    152664\n",
       "12    123713\n",
       "2     103137\n",
       "1      96744"
      ]
     },
     "execution_count": 39,
     "metadata": {},
     "output_type": "execute_result"
    }
   ],
   "source": [
    "bike_2012 = bike_data_day[bike_data_day[\"tahun\"] == 2012]\n",
    "\n",
    "bike_2012.groupby(by=\"mnth\").agg({\n",
    "    \"cnt\": \"sum\"\n",
    "}).sort_values(by=\"cnt\", ascending=False)"
   ]
  },
  {
   "cell_type": "markdown",
   "metadata": {
    "id": "onZlxzXtOJBW"
   },
   "source": [
    "Total penyewaan sepeda sepanjang tahun 2012.\n"
   ]
  },
  {
   "cell_type": "code",
   "execution_count": 40,
   "metadata": {
    "colab": {
     "base_uri": "https://localhost:8080/"
    },
    "id": "0IX55QAnOJBX",
    "outputId": "a374fa76-5507-4b68-bf58-d418e818e80d"
   },
   "outputs": [
    {
     "name": "stdout",
     "output_type": "stream",
     "text": [
      "Total penyewaan sepeda sepanjang tahun 2012 adalah 2,049,576 sepeda.\n"
     ]
    }
   ],
   "source": [
    "bike_2012 = bike_data_day[bike_data_day[\"tahun\"] == 2012]\n",
    "\n",
    "formated_number = \"{:,.0f}\".format(bike_2012[\"cnt\"].sum())\n",
    "print(f\"Total penyewaan sepeda sepanjang tahun 2012 adalah {formated_number} sepeda.\")"
   ]
  },
  {
   "cell_type": "markdown",
   "metadata": {
    "id": "PrlYnLQsPoOS"
   },
   "source": [
    "Mencari apakah ada peninggkatan penyewaan sepeda atau tidak, dan berapa percent peningkatan/penurunan penyewaan sepeda.\n"
   ]
  },
  {
   "cell_type": "code",
   "execution_count": 41,
   "metadata": {
    "colab": {
     "base_uri": "https://localhost:8080/"
    },
    "id": "nbcRsu2VPxSz",
    "outputId": "bc93722e-2c37-4c78-df1a-a5d388ccc566"
   },
   "outputs": [
    {
     "name": "stdout",
     "output_type": "stream",
     "text": [
      "Persentase peningkatan penyewaan dari tahun 2011 ke tahun 2012: 64.88%\n"
     ]
    }
   ],
   "source": [
    "bike_rentals_2011 = bike_data_day[bike_data_day['tahun'] == 2011]['cnt'].sum()\n",
    "bike_rentals_2012 = bike_data_day[bike_data_day['tahun'] == 2012]['cnt'].sum()\n",
    "\n",
    "percentage = (bike_rentals_2012 - bike_rentals_2011) / bike_rentals_2011 * 100\n",
    "\n",
    "if percentage > 0:\n",
    "  print(f\"Persentase peningkatan penyewaan dari tahun 2011 ke tahun 2012: {percentage:.2f}%\")\n",
    "else:\n",
    "  print(f\"Persentase penurunan penyewaan dari tahun 2011 ke tahun 2012: {percentage:.2f}%\")"
   ]
  },
  {
   "cell_type": "markdown",
   "metadata": {},
   "source": [
    "**Insight**\n",
    "\n",
    "persentase penyewaan di tahun mengalami peningkatan sebanyak 64.88% persen dari tahun 2011\n"
   ]
  },
  {
   "cell_type": "markdown",
   "metadata": {
    "id": "zsyZjqak8DC2"
   },
   "source": [
    "## Visualization & Explanatory Analysis\n"
   ]
  },
  {
   "cell_type": "markdown",
   "metadata": {
    "id": "DgHI7CiU8DC2"
   },
   "source": [
    "### Bagaimana cuaca memengaruhi jumlah penyewaan sepeda ?\n"
   ]
  },
  {
   "cell_type": "code",
   "execution_count": 82,
   "metadata": {
    "colab": {
     "base_uri": "https://localhost:8080/",
     "height": 206
    },
    "id": "Go0lCsvO8DC2",
    "outputId": "73bbfbdc-65e5-4ee9-867a-68d6668e4b8f"
   },
   "outputs": [
    {
     "data": {
      "text/html": [
       "<div>\n",
       "<style scoped>\n",
       "    .dataframe tbody tr th:only-of-type {\n",
       "        vertical-align: middle;\n",
       "    }\n",
       "\n",
       "    .dataframe tbody tr th {\n",
       "        vertical-align: top;\n",
       "    }\n",
       "\n",
       "    .dataframe thead th {\n",
       "        text-align: right;\n",
       "    }\n",
       "</style>\n",
       "<table border=\"1\" class=\"dataframe\">\n",
       "  <thead>\n",
       "    <tr style=\"text-align: right;\">\n",
       "      <th></th>\n",
       "      <th>instant</th>\n",
       "      <th>dteday</th>\n",
       "      <th>season</th>\n",
       "      <th>yr</th>\n",
       "      <th>mnth</th>\n",
       "      <th>holiday</th>\n",
       "      <th>weekday</th>\n",
       "      <th>workingday</th>\n",
       "      <th>weathersit</th>\n",
       "      <th>temp</th>\n",
       "      <th>atemp</th>\n",
       "      <th>hum</th>\n",
       "      <th>windspeed</th>\n",
       "      <th>casual</th>\n",
       "      <th>registered</th>\n",
       "      <th>cnt</th>\n",
       "      <th>cuaca</th>\n",
       "      <th>tahun</th>\n",
       "    </tr>\n",
       "  </thead>\n",
       "  <tbody>\n",
       "    <tr>\n",
       "      <th>299</th>\n",
       "      <td>300</td>\n",
       "      <td>2011-10-27</td>\n",
       "      <td>4</td>\n",
       "      <td>0</td>\n",
       "      <td>10</td>\n",
       "      <td>0</td>\n",
       "      <td>4</td>\n",
       "      <td>1</td>\n",
       "      <td>2</td>\n",
       "      <td>0.470000</td>\n",
       "      <td>0.457046</td>\n",
       "      <td>0.812917</td>\n",
       "      <td>0.197763</td>\n",
       "      <td>240</td>\n",
       "      <td>2419</td>\n",
       "      <td>2659</td>\n",
       "      <td>badai</td>\n",
       "      <td>2011</td>\n",
       "    </tr>\n",
       "    <tr>\n",
       "      <th>678</th>\n",
       "      <td>679</td>\n",
       "      <td>2012-11-09</td>\n",
       "      <td>4</td>\n",
       "      <td>1</td>\n",
       "      <td>11</td>\n",
       "      <td>0</td>\n",
       "      <td>5</td>\n",
       "      <td>1</td>\n",
       "      <td>1</td>\n",
       "      <td>0.361667</td>\n",
       "      <td>0.355413</td>\n",
       "      <td>0.540833</td>\n",
       "      <td>0.214558</td>\n",
       "      <td>709</td>\n",
       "      <td>5283</td>\n",
       "      <td>5992</td>\n",
       "      <td>badai</td>\n",
       "      <td>2012</td>\n",
       "    </tr>\n",
       "    <tr>\n",
       "      <th>662</th>\n",
       "      <td>663</td>\n",
       "      <td>2012-10-24</td>\n",
       "      <td>4</td>\n",
       "      <td>1</td>\n",
       "      <td>10</td>\n",
       "      <td>0</td>\n",
       "      <td>3</td>\n",
       "      <td>1</td>\n",
       "      <td>1</td>\n",
       "      <td>0.587500</td>\n",
       "      <td>0.558721</td>\n",
       "      <td>0.636250</td>\n",
       "      <td>0.072779</td>\n",
       "      <td>795</td>\n",
       "      <td>6898</td>\n",
       "      <td>7693</td>\n",
       "      <td>badai</td>\n",
       "      <td>2012</td>\n",
       "    </tr>\n",
       "    <tr>\n",
       "      <th>224</th>\n",
       "      <td>225</td>\n",
       "      <td>2011-08-13</td>\n",
       "      <td>3</td>\n",
       "      <td>0</td>\n",
       "      <td>8</td>\n",
       "      <td>0</td>\n",
       "      <td>6</td>\n",
       "      <td>0</td>\n",
       "      <td>2</td>\n",
       "      <td>0.685833</td>\n",
       "      <td>0.645858</td>\n",
       "      <td>0.729583</td>\n",
       "      <td>0.211454</td>\n",
       "      <td>1504</td>\n",
       "      <td>2646</td>\n",
       "      <td>4150</td>\n",
       "      <td>hujan</td>\n",
       "      <td>2011</td>\n",
       "    </tr>\n",
       "    <tr>\n",
       "      <th>696</th>\n",
       "      <td>697</td>\n",
       "      <td>2012-11-27</td>\n",
       "      <td>4</td>\n",
       "      <td>1</td>\n",
       "      <td>11</td>\n",
       "      <td>0</td>\n",
       "      <td>2</td>\n",
       "      <td>1</td>\n",
       "      <td>2</td>\n",
       "      <td>0.291667</td>\n",
       "      <td>0.281558</td>\n",
       "      <td>0.786667</td>\n",
       "      <td>0.237562</td>\n",
       "      <td>123</td>\n",
       "      <td>3836</td>\n",
       "      <td>3959</td>\n",
       "      <td>badai</td>\n",
       "      <td>2012</td>\n",
       "    </tr>\n",
       "    <tr>\n",
       "      <th>24</th>\n",
       "      <td>25</td>\n",
       "      <td>2011-01-25</td>\n",
       "      <td>1</td>\n",
       "      <td>0</td>\n",
       "      <td>1</td>\n",
       "      <td>0</td>\n",
       "      <td>2</td>\n",
       "      <td>1</td>\n",
       "      <td>2</td>\n",
       "      <td>0.223478</td>\n",
       "      <td>0.234526</td>\n",
       "      <td>0.616957</td>\n",
       "      <td>0.129796</td>\n",
       "      <td>186</td>\n",
       "      <td>1799</td>\n",
       "      <td>1985</td>\n",
       "      <td>cerah</td>\n",
       "      <td>2011</td>\n",
       "    </tr>\n",
       "    <tr>\n",
       "      <th>577</th>\n",
       "      <td>578</td>\n",
       "      <td>2012-07-31</td>\n",
       "      <td>3</td>\n",
       "      <td>1</td>\n",
       "      <td>7</td>\n",
       "      <td>0</td>\n",
       "      <td>2</td>\n",
       "      <td>1</td>\n",
       "      <td>1</td>\n",
       "      <td>0.713333</td>\n",
       "      <td>0.662896</td>\n",
       "      <td>0.704167</td>\n",
       "      <td>0.165425</td>\n",
       "      <td>968</td>\n",
       "      <td>6248</td>\n",
       "      <td>7216</td>\n",
       "      <td>hujan</td>\n",
       "      <td>2012</td>\n",
       "    </tr>\n",
       "    <tr>\n",
       "      <th>342</th>\n",
       "      <td>343</td>\n",
       "      <td>2011-12-09</td>\n",
       "      <td>4</td>\n",
       "      <td>0</td>\n",
       "      <td>12</td>\n",
       "      <td>0</td>\n",
       "      <td>5</td>\n",
       "      <td>1</td>\n",
       "      <td>1</td>\n",
       "      <td>0.290833</td>\n",
       "      <td>0.317542</td>\n",
       "      <td>0.695833</td>\n",
       "      <td>0.082717</td>\n",
       "      <td>261</td>\n",
       "      <td>3359</td>\n",
       "      <td>3620</td>\n",
       "      <td>badai</td>\n",
       "      <td>2011</td>\n",
       "    </tr>\n",
       "    <tr>\n",
       "      <th>648</th>\n",
       "      <td>649</td>\n",
       "      <td>2012-10-10</td>\n",
       "      <td>4</td>\n",
       "      <td>1</td>\n",
       "      <td>10</td>\n",
       "      <td>0</td>\n",
       "      <td>3</td>\n",
       "      <td>1</td>\n",
       "      <td>1</td>\n",
       "      <td>0.514167</td>\n",
       "      <td>0.503142</td>\n",
       "      <td>0.630833</td>\n",
       "      <td>0.187821</td>\n",
       "      <td>780</td>\n",
       "      <td>6911</td>\n",
       "      <td>7691</td>\n",
       "      <td>badai</td>\n",
       "      <td>2012</td>\n",
       "    </tr>\n",
       "    <tr>\n",
       "      <th>459</th>\n",
       "      <td>460</td>\n",
       "      <td>2012-04-04</td>\n",
       "      <td>2</td>\n",
       "      <td>1</td>\n",
       "      <td>4</td>\n",
       "      <td>0</td>\n",
       "      <td>3</td>\n",
       "      <td>1</td>\n",
       "      <td>1</td>\n",
       "      <td>0.541667</td>\n",
       "      <td>0.533450</td>\n",
       "      <td>0.469583</td>\n",
       "      <td>0.180975</td>\n",
       "      <td>1058</td>\n",
       "      <td>5378</td>\n",
       "      <td>6436</td>\n",
       "      <td>berawan</td>\n",
       "      <td>2012</td>\n",
       "    </tr>\n",
       "  </tbody>\n",
       "</table>\n",
       "</div>"
      ],
      "text/plain": [
       "     instant     dteday  season  yr  mnth  holiday  weekday  workingday  \\\n",
       "299      300 2011-10-27       4   0    10        0        4           1   \n",
       "678      679 2012-11-09       4   1    11        0        5           1   \n",
       "662      663 2012-10-24       4   1    10        0        3           1   \n",
       "224      225 2011-08-13       3   0     8        0        6           0   \n",
       "696      697 2012-11-27       4   1    11        0        2           1   \n",
       "24        25 2011-01-25       1   0     1        0        2           1   \n",
       "577      578 2012-07-31       3   1     7        0        2           1   \n",
       "342      343 2011-12-09       4   0    12        0        5           1   \n",
       "648      649 2012-10-10       4   1    10        0        3           1   \n",
       "459      460 2012-04-04       2   1     4        0        3           1   \n",
       "\n",
       "     weathersit      temp     atemp       hum  windspeed  casual  registered  \\\n",
       "299           2  0.470000  0.457046  0.812917   0.197763     240        2419   \n",
       "678           1  0.361667  0.355413  0.540833   0.214558     709        5283   \n",
       "662           1  0.587500  0.558721  0.636250   0.072779     795        6898   \n",
       "224           2  0.685833  0.645858  0.729583   0.211454    1504        2646   \n",
       "696           2  0.291667  0.281558  0.786667   0.237562     123        3836   \n",
       "24            2  0.223478  0.234526  0.616957   0.129796     186        1799   \n",
       "577           1  0.713333  0.662896  0.704167   0.165425     968        6248   \n",
       "342           1  0.290833  0.317542  0.695833   0.082717     261        3359   \n",
       "648           1  0.514167  0.503142  0.630833   0.187821     780        6911   \n",
       "459           1  0.541667  0.533450  0.469583   0.180975    1058        5378   \n",
       "\n",
       "      cnt    cuaca  tahun  \n",
       "299  2659    badai   2011  \n",
       "678  5992    badai   2012  \n",
       "662  7693    badai   2012  \n",
       "224  4150    hujan   2011  \n",
       "696  3959    badai   2012  \n",
       "24   1985    cerah   2011  \n",
       "577  7216    hujan   2012  \n",
       "342  3620    badai   2011  \n",
       "648  7691    badai   2012  \n",
       "459  6436  berawan   2012  "
      ]
     },
     "execution_count": 82,
     "metadata": {},
     "output_type": "execute_result"
    }
   ],
   "source": [
    "bike_data_day.sample(10)"
   ]
  },
  {
   "cell_type": "code",
   "execution_count": 110,
   "metadata": {
    "colab": {
     "base_uri": "https://localhost:8080/",
     "height": 486
    },
    "id": "eL9e4CrVmmN4",
    "outputId": "ba0d07bc-69dd-40e1-ef08-d2967dbd10d8"
   },
   "outputs": [
    {
     "data": {
      "image/png": "[encoded data removed]",
      "text/plain": [
       "<Figure size 640x480 with 1 Axes>"
      ]
     },
     "metadata": {},
     "output_type": "display_data"
    }
   ],
   "source": [
    "weather_plot = bike_data_day.groupby(by=[\"cuaca\", \"musim\"])[\"cnt\"].sum().reset_index()\n",
    "formated_number = \"{:,.0f}\".format(weather_plot[\"cnt\"].sum())\n",
    "\n",
    "# rename column 'cnt' to 'jumlah penyewaan'\n",
    "weather_plot = weather_plot.rename(columns={'cnt': 'Jumlah penyewaan'})\n",
    "\n",
    "sns.barplot(\n",
    "    x=\"cuaca\", \n",
    "    y=\"Jumlah penyewaan\", \n",
    "    hue=\"musim\",\n",
    "    data=weather_plot\n",
    ")\n",
    "plt.title(\"Jumlah Penyewaan Sepeda Harian Berdasarkan Cuaca dan Musim\")\n",
    "plt.xlabel(\"Cuaca\", fontsize=12)\n",
    "plt.ylabel(\"Jumlah Penyewaan\", fontsize=12)\n",
    "\n",
    "plt.gca().yaxis.set_major_formatter(plt.FuncFormatter(lambda x, loc: \"{:,}\".format(int(x))))\n",
    "plt.show()"
   ]
  },
  {
   "cell_type": "markdown",
   "metadata": {
    "id": "_0-36BDLklRg"
   },
   "source": [
    "**Insight:**\n",
    "\n",
    "- Cuaca Cerah: Merupakan kondisi cuaca yang paling disukai untuk bersepeda, menghasilkan jumlah penyewaan tertinggi.\n",
    "- Musim Panas: Merupakan musim dengan jumlah penyewaan sepeda tertinggi secara keseluruhan.\n",
    "  Cuaca Hujan: Mempengaruhi penurunan jumlah penyewaan sepeda secara signifikan.\n",
    "- Fluktuasi Musiman: Jumlah penyewaan sepeda bervariasi antar musim, dengan musim panas sebagai puncaknya dan musim dingin sebagai titik terendahnya.\n",
    "- Kondisi Berawan: Memberikan jumlah penyewaan yang moderat, tidak terlalu tinggi atau rendah.\n"
   ]
  },
  {
   "cell_type": "markdown",
   "metadata": {
    "id": "xOW0DMyrwkj-"
   },
   "source": [
    "### Berapa persen peningkatan/penurunan penyewaan sepeda pada akhir pekan dibandingkan hari kerja?\n"
   ]
  },
  {
   "cell_type": "code",
   "execution_count": 116,
   "metadata": {
    "colab": {
     "base_uri": "https://localhost:8080/"
    },
    "id": "Rcv4nkNL3UFO",
    "outputId": "c03fb11c-15aa-45e8-d6fc-977da9276bab"
   },
   "outputs": [
    {
     "name": "stdout",
     "output_type": "stream",
     "text": [
      "Jumlah persentase penyewaan sepeda pada akhir pekan: 2.38%\n",
      "Jumlah persentase penyewaan sepeda pada hari kerja: 30.38%\n",
      "Rata-rata persentase penyewaan : 16.38%\n",
      "Penyewaan di akhir pekan lebih rendah sebesar 14.00% dibandingkan rata-rata.\n",
      "Penyewaan di hari kerja lebih tinggi sebesar 14.00% dibandingkan rata-rata.\n"
     ]
    }
   ],
   "source": [
    "holiday_percentage, workingday_percentage = hitung_persentase_penyewaan(bike_data_day)"
   ]
  },
  {
   "cell_type": "code",
   "execution_count": 117,
   "metadata": {
    "colab": {
     "base_uri": "https://localhost:8080/",
     "height": 573
    },
    "id": "L0ab45sZ21HJ",
    "outputId": "ba912440-1e73-46de-d0a9-5659d6de2162"
   },
   "outputs": [
    {
     "data": {
      "image/png": "[encoded data removed]",
      "text/plain": [
       "<Figure size 800x600 with 1 Axes>"
      ]
     },
     "metadata": {},
     "output_type": "display_data"
    }
   ],
   "source": [
    "percentages = [holiday_percentage, workingday_percentage]\n",
    "labels = [\"Akhir pekan\", \"Hari kerja\"]\n",
    "\n",
    "# Create the bar plot\n",
    "plt.figure(figsize=(8, 6))  # Adjust figure size if needed\n",
    "sns.barplot(x=labels, y=percentages)\n",
    "plt.title('Jumlah penyewaan sepeda di hari kerja dan akhir pekan')\n",
    "plt.xlabel('Persentase Penyewaan (%)')\n",
    "plt.ylabel('Persentase di akhir pekan dan hari kerja')\n",
    "plt.show()"
   ]
  },
  {
   "cell_type": "markdown",
   "metadata": {
    "id": "Lbk0hHlr29Nb"
   },
   "source": [
    "visualisasi dalam bentuk pie chart\n"
   ]
  },
  {
   "cell_type": "code",
   "execution_count": 118,
   "metadata": {
    "colab": {
     "base_uri": "https://localhost:8080/",
     "height": 653
    },
    "id": "qf8HX3jw4mb6",
    "outputId": "bce6275a-3b41-4977-b939-b0e09b73cf4a"
   },
   "outputs": [
    {
     "data": {
      "image/png": "[encoded data removed]",
      "text/plain": [
       "<Figure size 800x800 with 1 Axes>"
      ]
     },
     "metadata": {},
     "output_type": "display_data"
    }
   ],
   "source": [
    "# Membuat pie chart\n",
    "plt.figure(figsize=(8, 8))\n",
    "plt.pie(percentages, labels=labels, autopct='%1.1f%%', startangle=90)\n",
    "plt.show()"
   ]
  },
  {
   "cell_type": "markdown",
   "metadata": {
    "id": "BcJrgFiH4ycL"
   },
   "source": [
    "Insight\n",
    "\n",
    "- Jumlah penyewaan sepeda didominasi pada hari kerja dibandingkan akhir pekan.\n"
   ]
  },
  {
   "cell_type": "markdown",
   "metadata": {
    "id": "DueZnhpo5Qrs"
   },
   "source": [
    "### mengidentifikasi jam-jam puncak penyewaan sepeda setiap hari?\n"
   ]
  },
  {
   "cell_type": "code",
   "execution_count": 49,
   "metadata": {
    "cellView": "form",
    "id": "nLW26fjjYz_h"
   },
   "outputs": [],
   "source": [
    "# @title buat kolom baru bernama \"tahun\" di data bike_data_hour\n",
    "\n",
    "weather_mapping = {\n",
    "    0: 2011,\n",
    "    1: 2012\n",
    "}\n",
    "bike_data_hour['tahun'] = bike_data_hour['yr'].map(weather_mapping)"
   ]
  },
  {
   "cell_type": "code",
   "execution_count": 50,
   "metadata": {
    "cellView": "form",
    "colab": {
     "base_uri": "https://localhost:8080/",
     "height": 507
    },
    "id": "Q3mpQf9sV8oG",
    "outputId": "d9aa99fe-8b56-42c8-fc88-81ce6a19c53d"
   },
   "outputs": [
    {
     "data": {
      "image/png": "[encoded data removed]",
      "text/plain": [
       "<Figure size 1000x500 with 1 Axes>"
      ]
     },
     "metadata": {},
     "output_type": "display_data"
    }
   ],
   "source": [
    "# @title Membuat sebuah barplot\n",
    "colors = [\"#69b3a2\", \"#4374B3\"]\n",
    "\n",
    "bike_hour = bike_data_hour.groupby(by=[\"hr\", \"tahun\"])[\"cnt\"].sum().reset_index()\n",
    "\n",
    "\n",
    "# barplot\n",
    "plt.figure(figsize=(10, 5))\n",
    "\n",
    "sns.barplot(\n",
    "    x=\"hr\",\n",
    "    y=\"cnt\",\n",
    "    hue=\"tahun\",\n",
    "    data=bike_hour,\n",
    "    palette=colors\n",
    ")\n",
    "\n",
    "plt.title(\"Jumlah Penyewaan Sepeda Harian Berdasarkan Jam\", fontsize=18)\n",
    "plt.xlabel(\"Jam\", fontsize=18)\n",
    "plt.ylabel(\"Jumlah Penyewaan\", fontsize=18)\n",
    "plt.gca().yaxis.set_major_formatter(plt.FuncFormatter(lambda x, loc: \"{:,}\".format(int(x))))\n",
    "plt.show()"
   ]
  },
  {
   "cell_type": "markdown",
   "metadata": {
    "id": "k4Bw2KoT_W7U"
   },
   "source": [
    "Insight\n",
    "\n",
    "- Dari plot tersebut bisa disimpulkan jika jumlah terbanyak orang dalam menyewa sepeda ada di jam delapan sampai ke jam lima sore.\n",
    "- Baik di tahun 2011 dan tahun 2012, jam lima sore memiliki jumlah penyewaan terbesar.\n"
   ]
  },
  {
   "cell_type": "markdown",
   "metadata": {
    "id": "EI4MOM7g_vT7"
   },
   "source": [
    "### Bagaimana tren penyewaan sepeda berubah dari tahun 2011 ke 2012?\n"
   ]
  },
  {
   "cell_type": "code",
   "execution_count": 51,
   "metadata": {
    "cellView": "form",
    "colab": {
     "base_uri": "https://localhost:8080/",
     "height": 501
    },
    "id": "rC0N2mErZlVS",
    "outputId": "d89bf0d7-0ac8-4ed9-cfc8-76c0f7daae58"
   },
   "outputs": [
    {
     "data": {
      "image/png": "[encoded data removed]",
      "text/plain": [
       "<Figure size 1000x500 with 1 Axes>"
      ]
     },
     "metadata": {},
     "output_type": "display_data"
    }
   ],
   "source": [
    "# @title Membuat line plot untuk mengidentifikasi tren\n",
    "\n",
    "yearly_rentals = bike_data_day.groupby(by=[\"mnth\", \"tahun\"]).agg({\n",
    "    \"cnt\": \"sum\"\n",
    "}).reset_index()\n",
    "\n",
    "# lineplot\n",
    "plt.figure(figsize=(10, 5))\n",
    "\n",
    "sns.lineplot(\n",
    "    x=\"mnth\",\n",
    "    y=\"cnt\",\n",
    "    hue=\"tahun\",\n",
    "    data=yearly_rentals\n",
    ")\n",
    "\n",
    "plt.title(\"Jumlah Penyewaan Sepeda Harian Berdasarkan Bulan dan Tahun\", fontsize=18)\n",
    "plt.xlabel(\"Bulan\", fontsize=13)\n",
    "plt.ylabel(\"Jumlah Penyewaan\", fontsize=13)\n",
    "plt.xticks(range(1, 13))\n",
    "\n",
    "plt.gca().yaxis.set_major_formatter(plt.FuncFormatter(lambda x, loc: \"{:,}\".format(int(x))))\n",
    "\n",
    "plt.show()"
   ]
  },
  {
   "cell_type": "code",
   "execution_count": 52,
   "metadata": {
    "colab": {
     "base_uri": "https://localhost:8080/",
     "height": 501
    },
    "id": "_f_RG10gerPs",
    "outputId": "338ab2c3-0c80-44eb-d5e6-296dac39cac8"
   },
   "outputs": [
    {
     "data": {
      "image/png": "[encoded data removed]",
      "text/plain": [
       "<Figure size 1000x500 with 1 Axes>"
      ]
     },
     "metadata": {},
     "output_type": "display_data"
    }
   ],
   "source": [
    "# @title Membuat sebuah barplot\n",
    "colors = [\"#69b3a2\", \"#4374B3\"]\n",
    "\n",
    "\n",
    "yearly_rentals = bike_data_day.groupby(by=[\"mnth\", \"tahun\"]).agg({\n",
    "    \"cnt\": \"mean\"\n",
    "}).reset_index()\n",
    "\n",
    "# barplot\n",
    "plt.figure(figsize=(10, 5))\n",
    "\n",
    "sns.barplot(\n",
    "    x=\"mnth\",\n",
    "    y=\"cnt\",\n",
    "    hue=\"tahun\",\n",
    "    data=yearly_rentals,\n",
    "    palette=colors\n",
    ")\n",
    "\n",
    "plt.title(\"Jumlah Penyewaan Sepeda Harian Berdasarkan Bulan dan Tahun\", fontsize=18)\n",
    "plt.xlabel(\"Bulan\", fontsize=13)\n",
    "plt.ylabel(\"Jumlah Penyewaan\", fontsize=13)\n",
    "\n",
    "plt.gca().yaxis.set_major_formatter(plt.FuncFormatter(lambda x, loc: \"{:,}\".format(int(x))))\n",
    "\n",
    "plt.show()"
   ]
  },
  {
   "cell_type": "markdown",
   "metadata": {
    "id": "bl1tUHQcfIV5"
   },
   "source": [
    "Insight\n",
    "\n",
    "- Jumlah penyewaan sepeda dari tahun 2011 sampai tahun 2012 mengalami peningkatan yang cukup besar.\n",
    "\n",
    "- Rata-rata jumlah penyewaan sepeda di tahun 2012 ada di angka 3.000 sampai diatas 7.000 sepeda dan terbanyak ada di bulan september (9) di tahun 2012.\n",
    "\n",
    "- Terdapat pola musiman yang jelas pada jumlah penyewaan sepeda. Jumlah penyewaan cenderung meningkat pada bulan-bulan tertentu seperti dari bulan maret (3) sampai bulan september (9) dan menurun pada bulan-bulan seperti bulan oktober (10) sampai bulan februari (2). Ini menunjukkan bahwa faktor cuaca, musim, atau event tertentu dapat mempengaruhi minat masyarakat untuk menyewa sepeda.\n"
   ]
  },
  {
   "cell_type": "markdown",
   "metadata": {
    "id": "_WeHlCeX8DC2"
   },
   "source": [
    "## Conclusion\n"
   ]
  },
  {
   "cell_type": "markdown",
   "metadata": {
    "id": "ZTcyR48Y8DC2"
   },
   "source": [
    "- Bagaimana cuaca memengaruhi jumlah penyewaan sepeda ?\n",
    "\n",
    "  cuaca sangat berpengaruh pada penyewaan sepeda, sebab ketika cuaca sedang cerah, orang cenderung sering melakukan aktivitas, sedangkan, di cuaca selain cerah, orang cenderung sedikit melakukan aktivitas.\n",
    "\n",
    "- Berapa persen peningkatan/penurunan penyewaan sepeda pada akhir pekan dibandingkan hari kerja ?\n",
    "\n",
    "  Jumlah peningkatan penyewaan terjadi pada hari kerja dibandingkan pada hari libur, yakni sebesar 14% dari rata-rata persentase penyewaan sepeda sebesar 16.38%. Dengan total persentase sebesar 30.38%. Sedangkan pada akhir pekan, penyewaan sepeda terjadi penurunan sebesar 14% dari rata-rata, dengan total persentase penyewaan hanya 2.38%.\n",
    "\n",
    "- Mengidentifikasi jam-jam puncak sepeda setiap hari ?\n",
    "\n",
    "  jam-jam puncak penyewaan sepeda lebih banyak pada pagi hari dimulai dari jam delapan pagi, sampai jam lima sore. Hal ini juga ada kaitannya dengan kecenderungan orang-orang, karena di jam-jam tersebut orang banyak yang berangkat kerja sampai berpegian ke segala tempat, dan jam puncak seperti jam lima sore menandakan orang menyewa sepeda untuk dipakai pulang dari tempat kerja.\n",
    "\n",
    "- Bagaimana tren penyewaan sepeda berubah dari tahun 2011 ke tahun 2012 ?\n",
    "\n",
    "  Tren penyewaan sepeda berubah sangat drastis, dimana orang-orang mulai banyak yang menyewa sepeda, bisa dikarenakan menyewa sepeda lebih murah dibandingkan membeli sepeda, bisa juga dikarenakan karena mereka yang menyewa sepeda hanya menggunakannya sesekali, jadi, daripada mereka membeli lebih baik menyewa sepeda.\n"
   ]
  },
  {
   "cell_type": "code",
   "execution_count": 122,
   "metadata": {},
   "outputs": [
    {
     "name": "stdout",
     "output_type": "stream",
     "text": [
      "<class 'pandas.core.frame.DataFrame'>\n",
      "RangeIndex: 17379 entries, 0 to 17378\n",
      "Data columns (total 36 columns):\n",
      " #   Column        Non-Null Count  Dtype         \n",
      "---  ------        --------------  -----         \n",
      " 0   instant_x     17379 non-null  int64         \n",
      " 1   dteday        17379 non-null  datetime64[ns]\n",
      " 2   season_x      17379 non-null  int64         \n",
      " 3   yr_x          17379 non-null  int64         \n",
      " 4   mnth_x        17379 non-null  int64         \n",
      " 5   holiday_x     17379 non-null  int64         \n",
      " 6   weekday_x     17379 non-null  int64         \n",
      " 7   workingday_x  17379 non-null  int64         \n",
      " 8   weathersit_x  17379 non-null  int64         \n",
      " 9   temp_x        17379 non-null  float64       \n",
      " 10  atemp_x       17379 non-null  float64       \n",
      " 11  hum_x         17379 non-null  float64       \n",
      " 12  windspeed_x   17379 non-null  float64       \n",
      " 13  casual_x      17379 non-null  int64         \n",
      " 14  registered_x  17379 non-null  int64         \n",
      " 15  cnt_x         17379 non-null  int64         \n",
      " 16  cuaca         17379 non-null  object        \n",
      " 17  tahun_x       17379 non-null  int64         \n",
      " 18  musim         17379 non-null  object        \n",
      " 19  instant_y     17379 non-null  int64         \n",
      " 20  season_y      17379 non-null  int64         \n",
      " 21  yr_y          17379 non-null  int64         \n",
      " 22  mnth_y        17379 non-null  int64         \n",
      " 23  hr            17379 non-null  int64         \n",
      " 24  holiday_y     17379 non-null  int64         \n",
      " 25  weekday_y     17379 non-null  int64         \n",
      " 26  workingday_y  17379 non-null  int64         \n",
      " 27  weathersit_y  17379 non-null  int64         \n",
      " 28  temp_y        17379 non-null  float64       \n",
      " 29  atemp_y       17379 non-null  float64       \n",
      " 30  hum_y         17379 non-null  float64       \n",
      " 31  windspeed_y   17379 non-null  float64       \n",
      " 32  casual_y      17379 non-null  int64         \n",
      " 33  registered_y  17379 non-null  int64         \n",
      " 34  cnt_y         17379 non-null  int64         \n",
      " 35  tahun_y       17379 non-null  int64         \n",
      "dtypes: datetime64[ns](1), float64(8), int64(25), object(2)\n",
      "memory usage: 4.8+ MB\n"
     ]
    }
   ],
   "source": [
    "# export all data\n",
    "all_df = pd.merge(\n",
    "    left=bike_data_day,\n",
    "    right=bike_data_hour,\n",
    "    how=\"inner\",\n",
    "    left_on=\"dteday\",\n",
    "    right_on=\"dteday\"\n",
    ")\n",
    "\n",
    "all_df.info()"
   ]
  },
  {
   "cell_type": "code",
   "execution_count": 123,
   "metadata": {},
   "outputs": [],
   "source": [
    "all_df.to_csv(\"bike_data.csv\", index=False)"
   ]
  }
 ],
 "metadata": {
  "colab": {
   "provenance": []
  },
  "kernelspec": {
   "display_name": "submission_analisa_data",
   "language": "python",
   "name": "python3"
  },
  "language_info": {
   "codemirror_mode": {
    "name": "ipython",
    "version": 3
   },
   "file_extension": ".py",
   "mimetype": "text/x-python",
   "name": "python",
   "nbconvert_exporter": "python",
   "pygments_lexer": "ipython3",
   "version": "3.12.8"
  },
  "orig_nbformat": 4
 },
 "nbformat": 4,
 "nbformat_minor": 0
}
